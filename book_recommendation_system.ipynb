{
  "cells": [
    {
      "cell_type": "markdown",
      "id": "b6c60ae2",
      "metadata": {
        "papermill": {
          "duration": 0.017219,
          "end_time": "2023-09-07T12:13:12.898204",
          "exception": false,
          "start_time": "2023-09-07T12:13:12.880985",
          "status": "completed"
        },
        "tags": [],
        "id": "b6c60ae2"
      },
      "source": [
        "# Collaborative Filtering Based Book Recommender System"
      ]
    },
    {
      "cell_type": "code",
      "execution_count": null,
      "id": "5fc062fb",
      "metadata": {
        "execution": {
          "iopub.execute_input": "2023-09-07T12:13:12.934151Z",
          "iopub.status.busy": "2023-09-07T12:13:12.933274Z",
          "iopub.status.idle": "2023-09-07T12:13:15.300852Z",
          "shell.execute_reply": "2023-09-07T12:13:15.299919Z"
        },
        "papermill": {
          "duration": 2.388624,
          "end_time": "2023-09-07T12:13:15.303584",
          "exception": false,
          "start_time": "2023-09-07T12:13:12.914960",
          "status": "completed"
        },
        "tags": [],
        "id": "5fc062fb"
      },
      "outputs": [],
      "source": [
        "# Importing necessary libraries\n",
        "import numpy as np    # NumPy for numerical computations\n",
        "import pandas as pd   # Pandas for data manipulation and analysis\n",
        "import matplotlib.pyplot as plt   # Matplotlib for data visualization\n",
        "import seaborn as sns   # Seaborn for statistical data visualization\n",
        "from sklearn.metrics.pairwise import cosine_similarity #to find similarity in n dimensions"
      ]
    },
    {
      "cell_type": "code",
      "execution_count": null,
      "id": "6a4e2a91",
      "metadata": {
        "execution": {
          "iopub.execute_input": "2023-09-07T12:13:15.340449Z",
          "iopub.status.busy": "2023-09-07T12:13:15.339413Z",
          "iopub.status.idle": "2023-09-07T12:13:19.659157Z",
          "shell.execute_reply": "2023-09-07T12:13:19.658099Z"
        },
        "papermill": {
          "duration": 4.341794,
          "end_time": "2023-09-07T12:13:19.661932",
          "exception": false,
          "start_time": "2023-09-07T12:13:15.320138",
          "status": "completed"
        },
        "tags": [],
        "id": "6a4e2a91",
        "outputId": "a5d21850-d362-4019-86bb-ca3876896a3d"
      },
      "outputs": [
        {
          "name": "stderr",
          "output_type": "stream",
          "text": [
            "/tmp/ipykernel_21/4127713917.py:2: DtypeWarning: Columns (3) have mixed types. Specify dtype option on import or set low_memory=False.\n",
            "  books = pd.read_csv('/kaggle/input/book-recommendation-dataset/Books.csv')\n"
          ]
        }
      ],
      "source": [
        "# Loading the 'Books.csv' dataset into a pandas DataFrame\n",
        "books = pd.read_csv('/kaggle/input/book-recommendation-dataset/Books.csv')\n",
        "\n",
        "# Loading the 'Users.csv' dataset into a pandas DataFrame\n",
        "users = pd.read_csv('/kaggle/input/book-recommendation-dataset/Users.csv')\n",
        "\n",
        "# Loading the 'Ratings.csv' dataset into a pandas DataFrame\n",
        "ratings = pd.read_csv('/kaggle/input/book-recommendation-dataset/Ratings.csv')"
      ]
    },
    {
      "cell_type": "code",
      "execution_count": null,
      "id": "6ce53e24",
      "metadata": {
        "execution": {
          "iopub.execute_input": "2023-09-07T12:13:19.699253Z",
          "iopub.status.busy": "2023-09-07T12:13:19.698610Z",
          "iopub.status.idle": "2023-09-07T12:13:19.743619Z",
          "shell.execute_reply": "2023-09-07T12:13:19.742462Z"
        },
        "papermill": {
          "duration": 0.067099,
          "end_time": "2023-09-07T12:13:19.745995",
          "exception": false,
          "start_time": "2023-09-07T12:13:19.678896",
          "status": "completed"
        },
        "tags": [],
        "id": "6ce53e24",
        "outputId": "7ead236a-cebb-4a34-f31b-f5f9786e1be3"
      },
      "outputs": [
        {
          "data": {
            "text/html": [
              "<div>\n",
              "<style scoped>\n",
              "    .dataframe tbody tr th:only-of-type {\n",
              "        vertical-align: middle;\n",
              "    }\n",
              "\n",
              "    .dataframe tbody tr th {\n",
              "        vertical-align: top;\n",
              "    }\n",
              "\n",
              "    .dataframe thead th {\n",
              "        text-align: right;\n",
              "    }\n",
              "</style>\n",
              "<table border=\"1\" class=\"dataframe\">\n",
              "  <thead>\n",
              "    <tr style=\"text-align: right;\">\n",
              "      <th></th>\n",
              "      <th>ISBN</th>\n",
              "      <th>Book-Title</th>\n",
              "      <th>Book-Author</th>\n",
              "      <th>Year-Of-Publication</th>\n",
              "      <th>Publisher</th>\n",
              "      <th>Image-URL-S</th>\n",
              "      <th>Image-URL-M</th>\n",
              "      <th>Image-URL-L</th>\n",
              "    </tr>\n",
              "  </thead>\n",
              "  <tbody>\n",
              "    <tr>\n",
              "      <th>256723</th>\n",
              "      <td>0670891533</td>\n",
              "      <td>How to Behave So Your Children Will, Too!</td>\n",
              "      <td>Sal Severe Ph.D.</td>\n",
              "      <td>2000</td>\n",
              "      <td>Penguin Putnam Books for Young Readers</td>\n",
              "      <td>http://images.amazon.com/images/P/0670891533.0...</td>\n",
              "      <td>http://images.amazon.com/images/P/0670891533.0...</td>\n",
              "      <td>http://images.amazon.com/images/P/0670891533.0...</td>\n",
              "    </tr>\n",
              "    <tr>\n",
              "      <th>167970</th>\n",
              "      <td>0425162621</td>\n",
              "      <td>Begin to Exit Here: A Novel of the Wayward Press</td>\n",
              "      <td>John Welter</td>\n",
              "      <td>1998</td>\n",
              "      <td>Berkley Publishing Group</td>\n",
              "      <td>http://images.amazon.com/images/P/0425162621.0...</td>\n",
              "      <td>http://images.amazon.com/images/P/0425162621.0...</td>\n",
              "      <td>http://images.amazon.com/images/P/0425162621.0...</td>\n",
              "    </tr>\n",
              "    <tr>\n",
              "      <th>76008</th>\n",
              "      <td>0373971001</td>\n",
              "      <td>Yellow Rain (Worldwide Mystery)</td>\n",
              "      <td>Steven Spetz</td>\n",
              "      <td>1989</td>\n",
              "      <td>Worldwide Library</td>\n",
              "      <td>http://images.amazon.com/images/P/0373971001.0...</td>\n",
              "      <td>http://images.amazon.com/images/P/0373971001.0...</td>\n",
              "      <td>http://images.amazon.com/images/P/0373971001.0...</td>\n",
              "    </tr>\n",
              "    <tr>\n",
              "      <th>159915</th>\n",
              "      <td>0028635299</td>\n",
              "      <td>The 15-Minute Gourmet : Vegetarian (15-Minute ...</td>\n",
              "      <td>Paulette  Mitchell</td>\n",
              "      <td>2000</td>\n",
              "      <td>John Wiley &amp;amp; Sons</td>\n",
              "      <td>http://images.amazon.com/images/P/0028635299.0...</td>\n",
              "      <td>http://images.amazon.com/images/P/0028635299.0...</td>\n",
              "      <td>http://images.amazon.com/images/P/0028635299.0...</td>\n",
              "    </tr>\n",
              "    <tr>\n",
              "      <th>236712</th>\n",
              "      <td>0575061197</td>\n",
              "      <td>Inside the Magic Rectangle</td>\n",
              "      <td>Victor Lewis-Smith</td>\n",
              "      <td>1996</td>\n",
              "      <td>V. Gollancz</td>\n",
              "      <td>http://images.amazon.com/images/P/0575061197.0...</td>\n",
              "      <td>http://images.amazon.com/images/P/0575061197.0...</td>\n",
              "      <td>http://images.amazon.com/images/P/0575061197.0...</td>\n",
              "    </tr>\n",
              "  </tbody>\n",
              "</table>\n",
              "</div>"
            ],
            "text/plain": [
              "              ISBN                                         Book-Title  \\\n",
              "256723  0670891533          How to Behave So Your Children Will, Too!   \n",
              "167970  0425162621   Begin to Exit Here: A Novel of the Wayward Press   \n",
              "76008   0373971001                    Yellow Rain (Worldwide Mystery)   \n",
              "159915  0028635299  The 15-Minute Gourmet : Vegetarian (15-Minute ...   \n",
              "236712  0575061197                         Inside the Magic Rectangle   \n",
              "\n",
              "               Book-Author Year-Of-Publication  \\\n",
              "256723    Sal Severe Ph.D.                2000   \n",
              "167970         John Welter                1998   \n",
              "76008         Steven Spetz                1989   \n",
              "159915  Paulette  Mitchell                2000   \n",
              "236712  Victor Lewis-Smith                1996   \n",
              "\n",
              "                                     Publisher  \\\n",
              "256723  Penguin Putnam Books for Young Readers   \n",
              "167970                Berkley Publishing Group   \n",
              "76008                        Worldwide Library   \n",
              "159915                   John Wiley &amp; Sons   \n",
              "236712                             V. Gollancz   \n",
              "\n",
              "                                              Image-URL-S  \\\n",
              "256723  http://images.amazon.com/images/P/0670891533.0...   \n",
              "167970  http://images.amazon.com/images/P/0425162621.0...   \n",
              "76008   http://images.amazon.com/images/P/0373971001.0...   \n",
              "159915  http://images.amazon.com/images/P/0028635299.0...   \n",
              "236712  http://images.amazon.com/images/P/0575061197.0...   \n",
              "\n",
              "                                              Image-URL-M  \\\n",
              "256723  http://images.amazon.com/images/P/0670891533.0...   \n",
              "167970  http://images.amazon.com/images/P/0425162621.0...   \n",
              "76008   http://images.amazon.com/images/P/0373971001.0...   \n",
              "159915  http://images.amazon.com/images/P/0028635299.0...   \n",
              "236712  http://images.amazon.com/images/P/0575061197.0...   \n",
              "\n",
              "                                              Image-URL-L  \n",
              "256723  http://images.amazon.com/images/P/0670891533.0...  \n",
              "167970  http://images.amazon.com/images/P/0425162621.0...  \n",
              "76008   http://images.amazon.com/images/P/0373971001.0...  \n",
              "159915  http://images.amazon.com/images/P/0028635299.0...  \n",
              "236712  http://images.amazon.com/images/P/0575061197.0...  "
            ]
          },
          "execution_count": 3,
          "metadata": {},
          "output_type": "execute_result"
        }
      ],
      "source": [
        "# Displaying a random sample of 5 rows from the 'books' DataFrame\n",
        "books.sample(5)"
      ]
    },
    {
      "cell_type": "code",
      "execution_count": null,
      "id": "2f3945ab",
      "metadata": {
        "execution": {
          "iopub.execute_input": "2023-09-07T12:13:19.783556Z",
          "iopub.status.busy": "2023-09-07T12:13:19.782617Z",
          "iopub.status.idle": "2023-09-07T12:13:19.816791Z",
          "shell.execute_reply": "2023-09-07T12:13:19.815478Z"
        },
        "papermill": {
          "duration": 0.056748,
          "end_time": "2023-09-07T12:13:19.819971",
          "exception": false,
          "start_time": "2023-09-07T12:13:19.763223",
          "status": "completed"
        },
        "scrolled": true,
        "tags": [],
        "id": "2f3945ab",
        "outputId": "1793f6ee-d5bd-468d-a19a-c43e19e3e6a5"
      },
      "outputs": [
        {
          "data": {
            "text/html": [
              "<div>\n",
              "<style scoped>\n",
              "    .dataframe tbody tr th:only-of-type {\n",
              "        vertical-align: middle;\n",
              "    }\n",
              "\n",
              "    .dataframe tbody tr th {\n",
              "        vertical-align: top;\n",
              "    }\n",
              "\n",
              "    .dataframe thead th {\n",
              "        text-align: right;\n",
              "    }\n",
              "</style>\n",
              "<table border=\"1\" class=\"dataframe\">\n",
              "  <thead>\n",
              "    <tr style=\"text-align: right;\">\n",
              "      <th></th>\n",
              "      <th>User-ID</th>\n",
              "      <th>Location</th>\n",
              "      <th>Age</th>\n",
              "    </tr>\n",
              "  </thead>\n",
              "  <tbody>\n",
              "    <tr>\n",
              "      <th>172435</th>\n",
              "      <td>172436</td>\n",
              "      <td>elche, alicante, spain</td>\n",
              "      <td>22.0</td>\n",
              "    </tr>\n",
              "    <tr>\n",
              "      <th>246702</th>\n",
              "      <td>246703</td>\n",
              "      <td>madrid, madrid, spain</td>\n",
              "      <td>30.0</td>\n",
              "    </tr>\n",
              "    <tr>\n",
              "      <th>108945</th>\n",
              "      <td>108946</td>\n",
              "      <td>tahoe city, california, usa</td>\n",
              "      <td>51.0</td>\n",
              "    </tr>\n",
              "    <tr>\n",
              "      <th>138997</th>\n",
              "      <td>138998</td>\n",
              "      <td>toronto, ontario, canada</td>\n",
              "      <td>NaN</td>\n",
              "    </tr>\n",
              "    <tr>\n",
              "      <th>121120</th>\n",
              "      <td>121121</td>\n",
              "      <td>sao vicente, rhode island, brazil</td>\n",
              "      <td>22.0</td>\n",
              "    </tr>\n",
              "  </tbody>\n",
              "</table>\n",
              "</div>"
            ],
            "text/plain": [
              "        User-ID                           Location   Age\n",
              "172435   172436             elche, alicante, spain  22.0\n",
              "246702   246703              madrid, madrid, spain  30.0\n",
              "108945   108946        tahoe city, california, usa  51.0\n",
              "138997   138998           toronto, ontario, canada   NaN\n",
              "121120   121121  sao vicente, rhode island, brazil  22.0"
            ]
          },
          "execution_count": 4,
          "metadata": {},
          "output_type": "execute_result"
        }
      ],
      "source": [
        "# Displaying a random sample of 5 rows from the 'users' DataFrame\n",
        "users.sample(5)"
      ]
    },
    {
      "cell_type": "code",
      "execution_count": null,
      "id": "dcf8421e",
      "metadata": {
        "execution": {
          "iopub.execute_input": "2023-09-07T12:13:19.860070Z",
          "iopub.status.busy": "2023-09-07T12:13:19.859181Z",
          "iopub.status.idle": "2023-09-07T12:13:19.921790Z",
          "shell.execute_reply": "2023-09-07T12:13:19.920281Z"
        },
        "papermill": {
          "duration": 0.086923,
          "end_time": "2023-09-07T12:13:19.924924",
          "exception": false,
          "start_time": "2023-09-07T12:13:19.838001",
          "status": "completed"
        },
        "tags": [],
        "id": "dcf8421e",
        "outputId": "1eba34a7-20fb-4384-e4f3-65e22a598066"
      },
      "outputs": [
        {
          "data": {
            "text/html": [
              "<div>\n",
              "<style scoped>\n",
              "    .dataframe tbody tr th:only-of-type {\n",
              "        vertical-align: middle;\n",
              "    }\n",
              "\n",
              "    .dataframe tbody tr th {\n",
              "        vertical-align: top;\n",
              "    }\n",
              "\n",
              "    .dataframe thead th {\n",
              "        text-align: right;\n",
              "    }\n",
              "</style>\n",
              "<table border=\"1\" class=\"dataframe\">\n",
              "  <thead>\n",
              "    <tr style=\"text-align: right;\">\n",
              "      <th></th>\n",
              "      <th>User-ID</th>\n",
              "      <th>ISBN</th>\n",
              "      <th>Book-Rating</th>\n",
              "    </tr>\n",
              "  </thead>\n",
              "  <tbody>\n",
              "    <tr>\n",
              "      <th>736732</th>\n",
              "      <td>177690</td>\n",
              "      <td>1551664348</td>\n",
              "      <td>0</td>\n",
              "    </tr>\n",
              "    <tr>\n",
              "      <th>1023028</th>\n",
              "      <td>245371</td>\n",
              "      <td>0023381205</td>\n",
              "      <td>0</td>\n",
              "    </tr>\n",
              "    <tr>\n",
              "      <th>1108834</th>\n",
              "      <td>266000</td>\n",
              "      <td>074347712X</td>\n",
              "      <td>0</td>\n",
              "    </tr>\n",
              "    <tr>\n",
              "      <th>66131</th>\n",
              "      <td>13552</td>\n",
              "      <td>0446601853</td>\n",
              "      <td>0</td>\n",
              "    </tr>\n",
              "    <tr>\n",
              "      <th>1130467</th>\n",
              "      <td>271284</td>\n",
              "      <td>0425091058</td>\n",
              "      <td>0</td>\n",
              "    </tr>\n",
              "  </tbody>\n",
              "</table>\n",
              "</div>"
            ],
            "text/plain": [
              "         User-ID        ISBN  Book-Rating\n",
              "736732    177690  1551664348            0\n",
              "1023028   245371  0023381205            0\n",
              "1108834   266000  074347712X            0\n",
              "66131      13552  0446601853            0\n",
              "1130467   271284  0425091058            0"
            ]
          },
          "execution_count": 5,
          "metadata": {},
          "output_type": "execute_result"
        }
      ],
      "source": [
        "# Displaying a random sample of 5 rows from the 'ratings' DataFrame\n",
        "ratings.sample(5)"
      ]
    },
    {
      "cell_type": "code",
      "execution_count": null,
      "id": "6365f304",
      "metadata": {
        "execution": {
          "iopub.execute_input": "2023-09-07T12:13:19.964286Z",
          "iopub.status.busy": "2023-09-07T12:13:19.963050Z",
          "iopub.status.idle": "2023-09-07T12:13:19.970507Z",
          "shell.execute_reply": "2023-09-07T12:13:19.969290Z"
        },
        "papermill": {
          "duration": 0.028897,
          "end_time": "2023-09-07T12:13:19.972882",
          "exception": false,
          "start_time": "2023-09-07T12:13:19.943985",
          "status": "completed"
        },
        "tags": [],
        "id": "6365f304",
        "outputId": "956a1ec9-e62c-4383-d939-27c9aa7f7d14"
      },
      "outputs": [
        {
          "name": "stdout",
          "output_type": "stream",
          "text": [
            "Books shape: (271360, 8)\n",
            "Users shape: (278858, 3)\n",
            "Ratings shape: (1149780, 3)\n"
          ]
        }
      ],
      "source": [
        "# Printing the shapes of the DataFrames\n",
        "print('Books shape:', books.shape)\n",
        "print('Users shape:', users.shape)\n",
        "print('Ratings shape:', ratings.shape)"
      ]
    },
    {
      "cell_type": "code",
      "execution_count": null,
      "id": "20c97262",
      "metadata": {
        "execution": {
          "iopub.execute_input": "2023-09-07T12:13:20.010745Z",
          "iopub.status.busy": "2023-09-07T12:13:20.010204Z",
          "iopub.status.idle": "2023-09-07T12:13:20.263082Z",
          "shell.execute_reply": "2023-09-07T12:13:20.261775Z"
        },
        "papermill": {
          "duration": 0.277041,
          "end_time": "2023-09-07T12:13:20.267768",
          "exception": false,
          "start_time": "2023-09-07T12:13:19.990727",
          "status": "completed"
        },
        "tags": [],
        "id": "20c97262",
        "outputId": "7f983531-cb64-48d0-e564-ab8e2b109ee0"
      },
      "outputs": [
        {
          "name": "stdout",
          "output_type": "stream",
          "text": [
            "<class 'pandas.core.frame.DataFrame'>\n",
            "RangeIndex: 271360 entries, 0 to 271359\n",
            "Data columns (total 8 columns):\n",
            " #   Column               Non-Null Count   Dtype \n",
            "---  ------               --------------   ----- \n",
            " 0   ISBN                 271360 non-null  object\n",
            " 1   Book-Title           271360 non-null  object\n",
            " 2   Book-Author          271358 non-null  object\n",
            " 3   Year-Of-Publication  271360 non-null  object\n",
            " 4   Publisher            271358 non-null  object\n",
            " 5   Image-URL-S          271360 non-null  object\n",
            " 6   Image-URL-M          271360 non-null  object\n",
            " 7   Image-URL-L          271357 non-null  object\n",
            "dtypes: object(8)\n",
            "memory usage: 16.6+ MB\n"
          ]
        }
      ],
      "source": [
        "# Verifying whether data for each variable is according to its dataype or not.\n",
        "books.info()"
      ]
    },
    {
      "cell_type": "code",
      "execution_count": null,
      "id": "bf715389",
      "metadata": {
        "execution": {
          "iopub.execute_input": "2023-09-07T12:13:20.310329Z",
          "iopub.status.busy": "2023-09-07T12:13:20.309811Z",
          "iopub.status.idle": "2023-09-07T12:13:20.363550Z",
          "shell.execute_reply": "2023-09-07T12:13:20.362035Z"
        },
        "papermill": {
          "duration": 0.076158,
          "end_time": "2023-09-07T12:13:20.366474",
          "exception": false,
          "start_time": "2023-09-07T12:13:20.290316",
          "status": "completed"
        },
        "tags": [],
        "id": "bf715389",
        "outputId": "f1159310-0e61-44bf-8f97-457065b1f775"
      },
      "outputs": [
        {
          "name": "stdout",
          "output_type": "stream",
          "text": [
            "<class 'pandas.core.frame.DataFrame'>\n",
            "RangeIndex: 278858 entries, 0 to 278857\n",
            "Data columns (total 3 columns):\n",
            " #   Column    Non-Null Count   Dtype  \n",
            "---  ------    --------------   -----  \n",
            " 0   User-ID   278858 non-null  int64  \n",
            " 1   Location  278858 non-null  object \n",
            " 2   Age       168096 non-null  float64\n",
            "dtypes: float64(1), int64(1), object(1)\n",
            "memory usage: 6.4+ MB\n"
          ]
        }
      ],
      "source": [
        "# Verifying whether data for each variable is according to its dataype or not.\n",
        "users.info()"
      ]
    },
    {
      "cell_type": "code",
      "execution_count": null,
      "id": "532beed9",
      "metadata": {
        "execution": {
          "iopub.execute_input": "2023-09-07T12:13:20.405586Z",
          "iopub.status.busy": "2023-09-07T12:13:20.404330Z",
          "iopub.status.idle": "2023-09-07T12:13:20.552494Z",
          "shell.execute_reply": "2023-09-07T12:13:20.551304Z"
        },
        "papermill": {
          "duration": 0.170129,
          "end_time": "2023-09-07T12:13:20.555055",
          "exception": false,
          "start_time": "2023-09-07T12:13:20.384926",
          "status": "completed"
        },
        "tags": [],
        "id": "532beed9",
        "outputId": "f5c3e1e5-7459-4ab1-996a-c27e624cf76c"
      },
      "outputs": [
        {
          "name": "stdout",
          "output_type": "stream",
          "text": [
            "<class 'pandas.core.frame.DataFrame'>\n",
            "RangeIndex: 1149780 entries, 0 to 1149779\n",
            "Data columns (total 3 columns):\n",
            " #   Column       Non-Null Count    Dtype \n",
            "---  ------       --------------    ----- \n",
            " 0   User-ID      1149780 non-null  int64 \n",
            " 1   ISBN         1149780 non-null  object\n",
            " 2   Book-Rating  1149780 non-null  int64 \n",
            "dtypes: int64(2), object(1)\n",
            "memory usage: 26.3+ MB\n"
          ]
        }
      ],
      "source": [
        "# Verifying whether data for each variable is according to its dataype or not.\n",
        "ratings.info()"
      ]
    },
    {
      "cell_type": "code",
      "execution_count": null,
      "id": "8399ef18",
      "metadata": {
        "execution": {
          "iopub.execute_input": "2023-09-07T12:13:20.595339Z",
          "iopub.status.busy": "2023-09-07T12:13:20.594935Z",
          "iopub.status.idle": "2023-09-07T12:13:20.829787Z",
          "shell.execute_reply": "2023-09-07T12:13:20.828618Z"
        },
        "papermill": {
          "duration": 0.258912,
          "end_time": "2023-09-07T12:13:20.832087",
          "exception": false,
          "start_time": "2023-09-07T12:13:20.573175",
          "status": "completed"
        },
        "tags": [],
        "id": "8399ef18",
        "outputId": "c3cf37bb-1713-4136-d257-714be48c31ab"
      },
      "outputs": [
        {
          "data": {
            "text/plain": [
              "ISBN                   0\n",
              "Book-Title             0\n",
              "Book-Author            2\n",
              "Year-Of-Publication    0\n",
              "Publisher              2\n",
              "Image-URL-S            0\n",
              "Image-URL-M            0\n",
              "Image-URL-L            3\n",
              "dtype: int64"
            ]
          },
          "execution_count": 10,
          "metadata": {},
          "output_type": "execute_result"
        }
      ],
      "source": [
        "# Checking for missing values in the 'books' DataFrame\n",
        "books.isnull().sum()"
      ]
    },
    {
      "cell_type": "code",
      "execution_count": null,
      "id": "5bb2a72f",
      "metadata": {
        "execution": {
          "iopub.execute_input": "2023-09-07T12:13:20.936397Z",
          "iopub.status.busy": "2023-09-07T12:13:20.935259Z",
          "iopub.status.idle": "2023-09-07T12:13:20.975800Z",
          "shell.execute_reply": "2023-09-07T12:13:20.974961Z"
        },
        "papermill": {
          "duration": 0.126046,
          "end_time": "2023-09-07T12:13:20.978158",
          "exception": false,
          "start_time": "2023-09-07T12:13:20.852112",
          "status": "completed"
        },
        "tags": [],
        "id": "5bb2a72f",
        "outputId": "46474827-b434-4d93-c78f-7e56c015b6dd"
      },
      "outputs": [
        {
          "data": {
            "text/plain": [
              "User-ID          0\n",
              "Location         0\n",
              "Age         110762\n",
              "dtype: int64"
            ]
          },
          "execution_count": 11,
          "metadata": {},
          "output_type": "execute_result"
        }
      ],
      "source": [
        "# Checking for missing values in the 'users' DataFrame\n",
        "users.isnull().sum()"
      ]
    },
    {
      "cell_type": "code",
      "execution_count": null,
      "id": "3e890022",
      "metadata": {
        "execution": {
          "iopub.execute_input": "2023-09-07T12:13:21.018037Z",
          "iopub.status.busy": "2023-09-07T12:13:21.016950Z",
          "iopub.status.idle": "2023-09-07T12:13:21.158518Z",
          "shell.execute_reply": "2023-09-07T12:13:21.157424Z"
        },
        "papermill": {
          "duration": 0.163529,
          "end_time": "2023-09-07T12:13:21.160814",
          "exception": false,
          "start_time": "2023-09-07T12:13:20.997285",
          "status": "completed"
        },
        "tags": [],
        "id": "3e890022",
        "outputId": "df6a26eb-1bdf-42ea-e9e3-9e2bc4cb7fb1"
      },
      "outputs": [
        {
          "data": {
            "text/plain": [
              "User-ID        0\n",
              "ISBN           0\n",
              "Book-Rating    0\n",
              "dtype: int64"
            ]
          },
          "execution_count": 12,
          "metadata": {},
          "output_type": "execute_result"
        }
      ],
      "source": [
        "# Checking for missing values in the 'ratings' DataFrame\n",
        "ratings.isnull().sum()"
      ]
    },
    {
      "cell_type": "code",
      "execution_count": null,
      "id": "9116972b",
      "metadata": {
        "execution": {
          "iopub.execute_input": "2023-09-07T12:13:21.200592Z",
          "iopub.status.busy": "2023-09-07T12:13:21.199503Z",
          "iopub.status.idle": "2023-09-07T12:13:21.951016Z",
          "shell.execute_reply": "2023-09-07T12:13:21.949782Z"
        },
        "papermill": {
          "duration": 0.774187,
          "end_time": "2023-09-07T12:13:21.953604",
          "exception": false,
          "start_time": "2023-09-07T12:13:21.179417",
          "status": "completed"
        },
        "tags": [],
        "id": "9116972b",
        "outputId": "24211e77-0f75-42d4-a411-ac67d3fe531a"
      },
      "outputs": [
        {
          "data": {
            "text/plain": [
              "0"
            ]
          },
          "execution_count": 13,
          "metadata": {},
          "output_type": "execute_result"
        }
      ],
      "source": [
        "# Checking for duplicate rows in the 'books' DataFrame\n",
        "books.duplicated().sum()"
      ]
    },
    {
      "cell_type": "code",
      "execution_count": null,
      "id": "bcbcf98a",
      "metadata": {
        "execution": {
          "iopub.execute_input": "2023-09-07T12:13:21.993171Z",
          "iopub.status.busy": "2023-09-07T12:13:21.992769Z",
          "iopub.status.idle": "2023-09-07T12:13:22.081500Z",
          "shell.execute_reply": "2023-09-07T12:13:22.080469Z"
        },
        "papermill": {
          "duration": 0.111729,
          "end_time": "2023-09-07T12:13:22.084204",
          "exception": false,
          "start_time": "2023-09-07T12:13:21.972475",
          "status": "completed"
        },
        "tags": [],
        "id": "bcbcf98a",
        "outputId": "55732349-cc68-4aa4-c015-6a4f074b3605"
      },
      "outputs": [
        {
          "data": {
            "text/plain": [
              "0"
            ]
          },
          "execution_count": 14,
          "metadata": {},
          "output_type": "execute_result"
        }
      ],
      "source": [
        "# Checking for duplicate rows in the 'users' DataFrame\n",
        "users.duplicated().sum()"
      ]
    },
    {
      "cell_type": "code",
      "execution_count": null,
      "id": "283b3a4f",
      "metadata": {
        "execution": {
          "iopub.execute_input": "2023-09-07T12:13:22.124405Z",
          "iopub.status.busy": "2023-09-07T12:13:22.123998Z",
          "iopub.status.idle": "2023-09-07T12:13:22.492134Z",
          "shell.execute_reply": "2023-09-07T12:13:22.490932Z"
        },
        "papermill": {
          "duration": 0.3911,
          "end_time": "2023-09-07T12:13:22.494754",
          "exception": false,
          "start_time": "2023-09-07T12:13:22.103654",
          "status": "completed"
        },
        "tags": [],
        "id": "283b3a4f",
        "outputId": "628193ec-52c9-4a41-f710-9dee5defcb54"
      },
      "outputs": [
        {
          "data": {
            "text/plain": [
              "0"
            ]
          },
          "execution_count": 15,
          "metadata": {},
          "output_type": "execute_result"
        }
      ],
      "source": [
        "# Checking for duplicate rows in the 'ratings' DataFrame\n",
        "ratings.duplicated().sum()"
      ]
    },
    {
      "cell_type": "markdown",
      "id": "2ad88c1c",
      "metadata": {
        "papermill": {
          "duration": 0.018813,
          "end_time": "2023-09-07T12:13:22.533289",
          "exception": false,
          "start_time": "2023-09-07T12:13:22.514476",
          "status": "completed"
        },
        "tags": [],
        "id": "2ad88c1c"
      },
      "source": [
        "# Exploratory data analysis (EDA)"
      ]
    },
    {
      "cell_type": "code",
      "execution_count": null,
      "id": "4d9f801f",
      "metadata": {
        "execution": {
          "iopub.execute_input": "2023-09-07T12:13:22.573129Z",
          "iopub.status.busy": "2023-09-07T12:13:22.572728Z",
          "iopub.status.idle": "2023-09-07T12:13:23.040459Z",
          "shell.execute_reply": "2023-09-07T12:13:23.039250Z"
        },
        "papermill": {
          "duration": 0.490918,
          "end_time": "2023-09-07T12:13:23.043328",
          "exception": false,
          "start_time": "2023-09-07T12:13:22.552410",
          "status": "completed"
        },
        "tags": [],
        "id": "4d9f801f",
        "outputId": "59cb691b-d0a6-4423-eb12-b432ca532e1a"
      },
      "outputs": [
        {
          "data": {
            "text/plain": [
              "<Axes: xlabel='Book-Rating', ylabel='count'>"
            ]
          },
          "execution_count": 16,
          "metadata": {},
          "output_type": "execute_result"
        },
        {
          "data": {
            "image/png": "[encoded data removed]",
            "text/plain": [
              "<Figure size 640x480 with 1 Axes>"
            ]
          },
          "metadata": {},
          "output_type": "display_data"
        }
      ],
      "source": [
        "# Creating a count plot for book ratings.\n",
        "# It displays the frequency of each unique rating in the 'ratings' DataFrame.\n",
        "sns.countplot(x=ratings['Book-Rating'])"
      ]
    },
    {
      "cell_type": "code",
      "execution_count": null,
      "id": "bb25d065",
      "metadata": {
        "execution": {
          "iopub.execute_input": "2023-09-07T12:13:23.084621Z",
          "iopub.status.busy": "2023-09-07T12:13:23.084222Z",
          "iopub.status.idle": "2023-09-07T12:13:23.136033Z",
          "shell.execute_reply": "2023-09-07T12:13:23.135101Z"
        },
        "papermill": {
          "duration": 0.075364,
          "end_time": "2023-09-07T12:13:23.138499",
          "exception": false,
          "start_time": "2023-09-07T12:13:23.063135",
          "status": "completed"
        },
        "tags": [],
        "id": "bb25d065",
        "outputId": "f3a5be1e-8e8f-428a-a47c-39befbb68fbf"
      },
      "outputs": [
        {
          "data": {
            "text/plain": [
              "Year-Of-Publication\n",
              "2002    13903\n",
              "2001    13715\n",
              "1999    13414\n",
              "2000    13373\n",
              "1998    12116\n",
              "        ...  \n",
              "1924        1\n",
              "2012        1\n",
              "1927        1\n",
              "1931        1\n",
              "2037        1\n",
              "Name: count, Length: 202, dtype: int64"
            ]
          },
          "execution_count": 17,
          "metadata": {},
          "output_type": "execute_result"
        }
      ],
      "source": [
        "# Counting the occurrences of each 'Year-Of-Publication'\n",
        "books['Year-Of-Publication'].value_counts()"
      ]
    },
    {
      "cell_type": "code",
      "execution_count": null,
      "id": "21ab7b49",
      "metadata": {
        "execution": {
          "iopub.execute_input": "2023-09-07T12:13:23.180428Z",
          "iopub.status.busy": "2023-09-07T12:13:23.179994Z",
          "iopub.status.idle": "2023-09-07T12:13:23.259340Z",
          "shell.execute_reply": "2023-09-07T12:13:23.258175Z"
        },
        "papermill": {
          "duration": 0.1035,
          "end_time": "2023-09-07T12:13:23.261990",
          "exception": false,
          "start_time": "2023-09-07T12:13:23.158490",
          "status": "completed"
        },
        "tags": [],
        "id": "21ab7b49",
        "outputId": "fb663cd5-7303-47e5-ef25-86346341b7ce"
      },
      "outputs": [
        {
          "data": {
            "text/plain": [
              "count     271360\n",
              "unique       202\n",
              "top         2002\n",
              "freq       13903\n",
              "Name: Year-Of-Publication, dtype: int64"
            ]
          },
          "execution_count": 18,
          "metadata": {},
          "output_type": "execute_result"
        }
      ],
      "source": [
        "# Descriptive statistics for 'Year-Of-Publication'\n",
        "books['Year-Of-Publication'].describe()"
      ]
    },
    {
      "cell_type": "code",
      "execution_count": null,
      "id": "1151bec0",
      "metadata": {
        "execution": {
          "iopub.execute_input": "2023-09-07T12:13:23.303896Z",
          "iopub.status.busy": "2023-09-07T12:13:23.303493Z",
          "iopub.status.idle": "2023-09-07T12:13:23.363005Z",
          "shell.execute_reply": "2023-09-07T12:13:23.361955Z"
        },
        "papermill": {
          "duration": 0.0833,
          "end_time": "2023-09-07T12:13:23.365347",
          "exception": false,
          "start_time": "2023-09-07T12:13:23.282047",
          "status": "completed"
        },
        "tags": [],
        "id": "1151bec0",
        "outputId": "d273948f-021d-4fcf-c6df-3b441cc0462d"
      },
      "outputs": [
        {
          "data": {
            "text/html": [
              "<div>\n",
              "<style scoped>\n",
              "    .dataframe tbody tr th:only-of-type {\n",
              "        vertical-align: middle;\n",
              "    }\n",
              "\n",
              "    .dataframe tbody tr th {\n",
              "        vertical-align: top;\n",
              "    }\n",
              "\n",
              "    .dataframe thead th {\n",
              "        text-align: right;\n",
              "    }\n",
              "</style>\n",
              "<table border=\"1\" class=\"dataframe\">\n",
              "  <thead>\n",
              "    <tr style=\"text-align: right;\">\n",
              "      <th></th>\n",
              "      <th>ISBN</th>\n",
              "      <th>Book-Title</th>\n",
              "      <th>Book-Author</th>\n",
              "      <th>Year-Of-Publication</th>\n",
              "      <th>Publisher</th>\n",
              "      <th>Image-URL-S</th>\n",
              "      <th>Image-URL-M</th>\n",
              "      <th>Image-URL-L</th>\n",
              "    </tr>\n",
              "  </thead>\n",
              "  <tbody>\n",
              "    <tr>\n",
              "      <th>209538</th>\n",
              "      <td>078946697X</td>\n",
              "      <td>DK Readers: Creating the X-Men, How It All Beg...</td>\n",
              "      <td>2000</td>\n",
              "      <td>DK Publishing Inc</td>\n",
              "      <td>http://images.amazon.com/images/P/078946697X.0...</td>\n",
              "      <td>http://images.amazon.com/images/P/078946697X.0...</td>\n",
              "      <td>http://images.amazon.com/images/P/078946697X.0...</td>\n",
              "      <td>NaN</td>\n",
              "    </tr>\n",
              "    <tr>\n",
              "      <th>221678</th>\n",
              "      <td>0789466953</td>\n",
              "      <td>DK Readers: Creating the X-Men, How Comic Book...</td>\n",
              "      <td>2000</td>\n",
              "      <td>DK Publishing Inc</td>\n",
              "      <td>http://images.amazon.com/images/P/0789466953.0...</td>\n",
              "      <td>http://images.amazon.com/images/P/0789466953.0...</td>\n",
              "      <td>http://images.amazon.com/images/P/0789466953.0...</td>\n",
              "      <td>NaN</td>\n",
              "    </tr>\n",
              "  </tbody>\n",
              "</table>\n",
              "</div>"
            ],
            "text/plain": [
              "              ISBN                                         Book-Title  \\\n",
              "209538  078946697X  DK Readers: Creating the X-Men, How It All Beg...   \n",
              "221678  0789466953  DK Readers: Creating the X-Men, How Comic Book...   \n",
              "\n",
              "       Book-Author Year-Of-Publication  \\\n",
              "209538        2000   DK Publishing Inc   \n",
              "221678        2000   DK Publishing Inc   \n",
              "\n",
              "                                                Publisher  \\\n",
              "209538  http://images.amazon.com/images/P/078946697X.0...   \n",
              "221678  http://images.amazon.com/images/P/0789466953.0...   \n",
              "\n",
              "                                              Image-URL-S  \\\n",
              "209538  http://images.amazon.com/images/P/078946697X.0...   \n",
              "221678  http://images.amazon.com/images/P/0789466953.0...   \n",
              "\n",
              "                                              Image-URL-M Image-URL-L  \n",
              "209538  http://images.amazon.com/images/P/078946697X.0...         NaN  \n",
              "221678  http://images.amazon.com/images/P/0789466953.0...         NaN  "
            ]
          },
          "execution_count": 19,
          "metadata": {},
          "output_type": "execute_result"
        }
      ],
      "source": [
        "# There is a slight exchange in data in columns - as you can see the Book-Author has the Year-Of-Publication and Publisher has URL, etc\n",
        "books[books['Year-Of-Publication']=='DK Publishing Inc']"
      ]
    },
    {
      "cell_type": "code",
      "execution_count": null,
      "id": "7070832e",
      "metadata": {
        "execution": {
          "iopub.execute_input": "2023-09-07T12:13:23.408210Z",
          "iopub.status.busy": "2023-09-07T12:13:23.407832Z",
          "iopub.status.idle": "2023-09-07T12:13:23.419242Z",
          "shell.execute_reply": "2023-09-07T12:13:23.418012Z"
        },
        "papermill": {
          "duration": 0.036585,
          "end_time": "2023-09-07T12:13:23.422044",
          "exception": false,
          "start_time": "2023-09-07T12:13:23.385459",
          "status": "completed"
        },
        "tags": [],
        "id": "7070832e"
      },
      "outputs": [],
      "source": [
        "# Extracting specific rows from the 'books' DataFrame and rearranging columns\n",
        "\n",
        "# List of indices to extract\n",
        "indices = [209538, 221678, 220731]\n",
        "x = []\n",
        "y = []\n",
        "\n",
        "# Loop to extract specific columns and values\n",
        "for i in range(len(indices)):\n",
        "    x.append(books.iloc[indices[i]][2])\n",
        "    y.append(books.iloc[indices[i]][7])\n",
        "\n",
        "# Reordering columns using a while loop\n",
        "i, j = 7, 1\n",
        "while i > 3:\n",
        "    index = indices[j]\n",
        "    books.iloc[index][i] = books.iloc[index][i-1]\n",
        "    i -= 1\n",
        "    index += 1\n",
        "\n",
        "# Updating the 'Book-Title' column with values from 'y'\n",
        "for i in range(len(indices)):\n",
        "    books.iloc[indices[i]][2] = y[i]\n",
        "\n",
        "# Updating the 'Book-Author' column with values from 'x'\n",
        "for i in range(len(indices)):\n",
        "    books.iloc[indices[i]][3] = x[i]"
      ]
    },
    {
      "cell_type": "code",
      "execution_count": null,
      "id": "309d7de9",
      "metadata": {
        "execution": {
          "iopub.execute_input": "2023-09-07T12:13:23.465119Z",
          "iopub.status.busy": "2023-09-07T12:13:23.464738Z",
          "iopub.status.idle": "2023-09-07T12:13:23.521705Z",
          "shell.execute_reply": "2023-09-07T12:13:23.520427Z"
        },
        "papermill": {
          "duration": 0.0815,
          "end_time": "2023-09-07T12:13:23.524208",
          "exception": false,
          "start_time": "2023-09-07T12:13:23.442708",
          "status": "completed"
        },
        "tags": [],
        "id": "309d7de9",
        "outputId": "a999e652-8c75-40c4-a63d-e677acdc8cd2"
      },
      "outputs": [
        {
          "data": {
            "text/html": [
              "<div>\n",
              "<style scoped>\n",
              "    .dataframe tbody tr th:only-of-type {\n",
              "        vertical-align: middle;\n",
              "    }\n",
              "\n",
              "    .dataframe tbody tr th {\n",
              "        vertical-align: top;\n",
              "    }\n",
              "\n",
              "    .dataframe thead th {\n",
              "        text-align: right;\n",
              "    }\n",
              "</style>\n",
              "<table border=\"1\" class=\"dataframe\">\n",
              "  <thead>\n",
              "    <tr style=\"text-align: right;\">\n",
              "      <th></th>\n",
              "      <th>ISBN</th>\n",
              "      <th>Book-Title</th>\n",
              "      <th>Book-Author</th>\n",
              "      <th>Year-Of-Publication</th>\n",
              "      <th>Publisher</th>\n",
              "      <th>Image-URL-S</th>\n",
              "      <th>Image-URL-M</th>\n",
              "      <th>Image-URL-L</th>\n",
              "    </tr>\n",
              "  </thead>\n",
              "  <tbody>\n",
              "  </tbody>\n",
              "</table>\n",
              "</div>"
            ],
            "text/plain": [
              "Empty DataFrame\n",
              "Columns: [ISBN, Book-Title, Book-Author, Year-Of-Publication, Publisher, Image-URL-S, Image-URL-M, Image-URL-L]\n",
              "Index: []"
            ]
          },
          "execution_count": 21,
          "metadata": {},
          "output_type": "execute_result"
        }
      ],
      "source": [
        "books[books['Year-Of-Publication']=='DK Publishing Inc']"
      ]
    },
    {
      "cell_type": "code",
      "execution_count": null,
      "id": "380315dc",
      "metadata": {
        "execution": {
          "iopub.execute_input": "2023-09-07T12:13:23.567457Z",
          "iopub.status.busy": "2023-09-07T12:13:23.566602Z",
          "iopub.status.idle": "2023-09-07T12:13:23.623148Z",
          "shell.execute_reply": "2023-09-07T12:13:23.621774Z"
        },
        "papermill": {
          "duration": 0.08075,
          "end_time": "2023-09-07T12:13:23.625631",
          "exception": false,
          "start_time": "2023-09-07T12:13:23.544881",
          "status": "completed"
        },
        "tags": [],
        "id": "380315dc",
        "outputId": "37efa4c7-5585-4d6b-f8ee-aeedfecb62cc"
      },
      "outputs": [
        {
          "data": {
            "text/html": [
              "<div>\n",
              "<style scoped>\n",
              "    .dataframe tbody tr th:only-of-type {\n",
              "        vertical-align: middle;\n",
              "    }\n",
              "\n",
              "    .dataframe tbody tr th {\n",
              "        vertical-align: top;\n",
              "    }\n",
              "\n",
              "    .dataframe thead th {\n",
              "        text-align: right;\n",
              "    }\n",
              "</style>\n",
              "<table border=\"1\" class=\"dataframe\">\n",
              "  <thead>\n",
              "    <tr style=\"text-align: right;\">\n",
              "      <th></th>\n",
              "      <th>ISBN</th>\n",
              "      <th>Book-Title</th>\n",
              "      <th>Book-Author</th>\n",
              "      <th>Year-Of-Publication</th>\n",
              "      <th>Publisher</th>\n",
              "      <th>Image-URL-S</th>\n",
              "      <th>Image-URL-M</th>\n",
              "      <th>Image-URL-L</th>\n",
              "    </tr>\n",
              "  </thead>\n",
              "  <tbody>\n",
              "  </tbody>\n",
              "</table>\n",
              "</div>"
            ],
            "text/plain": [
              "Empty DataFrame\n",
              "Columns: [ISBN, Book-Title, Book-Author, Year-Of-Publication, Publisher, Image-URL-S, Image-URL-M, Image-URL-L]\n",
              "Index: []"
            ]
          },
          "execution_count": 22,
          "metadata": {},
          "output_type": "execute_result"
        }
      ],
      "source": [
        "books[books['Year-Of-Publication']=='Gallimard']"
      ]
    },
    {
      "cell_type": "code",
      "execution_count": null,
      "id": "f0eeab01",
      "metadata": {
        "execution": {
          "iopub.execute_input": "2023-09-07T12:13:23.670036Z",
          "iopub.status.busy": "2023-09-07T12:13:23.669160Z",
          "iopub.status.idle": "2023-09-07T12:13:23.744480Z",
          "shell.execute_reply": "2023-09-07T12:13:23.743634Z"
        },
        "papermill": {
          "duration": 0.100199,
          "end_time": "2023-09-07T12:13:23.746709",
          "exception": false,
          "start_time": "2023-09-07T12:13:23.646510",
          "status": "completed"
        },
        "scrolled": true,
        "tags": [],
        "id": "f0eeab01",
        "outputId": "f7cc1f9c-649b-471f-b821-489ece19b863"
      },
      "outputs": [
        {
          "data": {
            "text/plain": [
              "count     271360\n",
              "unique       200\n",
              "top         2002\n",
              "freq       13903\n",
              "Name: Year-Of-Publication, dtype: int64"
            ]
          },
          "execution_count": 23,
          "metadata": {},
          "output_type": "execute_result"
        }
      ],
      "source": [
        "# Descriptive statistics for 'Year-Of-Publication'\n",
        "books['Year-Of-Publication'].describe()"
      ]
    },
    {
      "cell_type": "code",
      "execution_count": null,
      "id": "4164e439",
      "metadata": {
        "execution": {
          "iopub.execute_input": "2023-09-07T12:13:23.790835Z",
          "iopub.status.busy": "2023-09-07T12:13:23.790016Z",
          "iopub.status.idle": "2023-09-07T12:13:23.988489Z",
          "shell.execute_reply": "2023-09-07T12:13:23.987405Z"
        },
        "papermill": {
          "duration": 0.223541,
          "end_time": "2023-09-07T12:13:23.991212",
          "exception": false,
          "start_time": "2023-09-07T12:13:23.767671",
          "status": "completed"
        },
        "tags": [],
        "id": "4164e439"
      },
      "outputs": [],
      "source": [
        "# The 'Year-Of-Publication' had some years in str format, this is to convert them to int\n",
        "books.iloc[:, 3] = books.iloc[:, 3].apply(int)"
      ]
    },
    {
      "cell_type": "code",
      "execution_count": null,
      "id": "41bee0b7",
      "metadata": {
        "execution": {
          "iopub.execute_input": "2023-09-07T12:13:24.034893Z",
          "iopub.status.busy": "2023-09-07T12:13:24.034091Z",
          "iopub.status.idle": "2023-09-07T12:13:24.139857Z",
          "shell.execute_reply": "2023-09-07T12:13:24.138696Z"
        },
        "papermill": {
          "duration": 0.130261,
          "end_time": "2023-09-07T12:13:24.142301",
          "exception": false,
          "start_time": "2023-09-07T12:13:24.012040",
          "status": "completed"
        },
        "tags": [],
        "id": "41bee0b7",
        "outputId": "3c774a74-7894-4e7d-829f-7b8c912c782d"
      },
      "outputs": [
        {
          "data": {
            "text/html": [
              "<div>\n",
              "<style scoped>\n",
              "    .dataframe tbody tr th:only-of-type {\n",
              "        vertical-align: middle;\n",
              "    }\n",
              "\n",
              "    .dataframe tbody tr th {\n",
              "        vertical-align: top;\n",
              "    }\n",
              "\n",
              "    .dataframe thead th {\n",
              "        text-align: right;\n",
              "    }\n",
              "</style>\n",
              "<table border=\"1\" class=\"dataframe\">\n",
              "  <thead>\n",
              "    <tr style=\"text-align: right;\">\n",
              "      <th></th>\n",
              "      <th>ISBN</th>\n",
              "      <th>Book-Title</th>\n",
              "      <th>Book-Author</th>\n",
              "      <th>Year-Of-Publication</th>\n",
              "      <th>Publisher</th>\n",
              "      <th>Image-URL-S</th>\n",
              "      <th>Image-URL-M</th>\n",
              "      <th>Image-URL-L</th>\n",
              "    </tr>\n",
              "  </thead>\n",
              "  <tbody>\n",
              "    <tr>\n",
              "      <th>0</th>\n",
              "      <td>0195153448</td>\n",
              "      <td>Classical Mythology</td>\n",
              "      <td>Mark P. O. Morford</td>\n",
              "      <td>2002</td>\n",
              "      <td>Oxford University Press</td>\n",
              "      <td>http://images.amazon.com/images/P/0195153448.0...</td>\n",
              "      <td>http://images.amazon.com/images/P/0195153448.0...</td>\n",
              "      <td>http://images.amazon.com/images/P/0195153448.0...</td>\n",
              "    </tr>\n",
              "    <tr>\n",
              "      <th>1</th>\n",
              "      <td>0002005018</td>\n",
              "      <td>Clara Callan</td>\n",
              "      <td>Richard Bruce Wright</td>\n",
              "      <td>2001</td>\n",
              "      <td>HarperFlamingo Canada</td>\n",
              "      <td>http://images.amazon.com/images/P/0002005018.0...</td>\n",
              "      <td>http://images.amazon.com/images/P/0002005018.0...</td>\n",
              "      <td>http://images.amazon.com/images/P/0002005018.0...</td>\n",
              "    </tr>\n",
              "    <tr>\n",
              "      <th>2</th>\n",
              "      <td>0060973129</td>\n",
              "      <td>Decision in Normandy</td>\n",
              "      <td>Carlo D'Este</td>\n",
              "      <td>1991</td>\n",
              "      <td>HarperPerennial</td>\n",
              "      <td>http://images.amazon.com/images/P/0060973129.0...</td>\n",
              "      <td>http://images.amazon.com/images/P/0060973129.0...</td>\n",
              "      <td>http://images.amazon.com/images/P/0060973129.0...</td>\n",
              "    </tr>\n",
              "    <tr>\n",
              "      <th>3</th>\n",
              "      <td>0374157065</td>\n",
              "      <td>Flu: The Story of the Great Influenza Pandemic...</td>\n",
              "      <td>Gina Bari Kolata</td>\n",
              "      <td>1999</td>\n",
              "      <td>Farrar Straus Giroux</td>\n",
              "      <td>http://images.amazon.com/images/P/0374157065.0...</td>\n",
              "      <td>http://images.amazon.com/images/P/0374157065.0...</td>\n",
              "      <td>http://images.amazon.com/images/P/0374157065.0...</td>\n",
              "    </tr>\n",
              "    <tr>\n",
              "      <th>4</th>\n",
              "      <td>0393045218</td>\n",
              "      <td>The Mummies of Urumchi</td>\n",
              "      <td>E. J. W. Barber</td>\n",
              "      <td>1999</td>\n",
              "      <td>W. W. Norton &amp;amp; Company</td>\n",
              "      <td>http://images.amazon.com/images/P/0393045218.0...</td>\n",
              "      <td>http://images.amazon.com/images/P/0393045218.0...</td>\n",
              "      <td>http://images.amazon.com/images/P/0393045218.0...</td>\n",
              "    </tr>\n",
              "    <tr>\n",
              "      <th>...</th>\n",
              "      <td>...</td>\n",
              "      <td>...</td>\n",
              "      <td>...</td>\n",
              "      <td>...</td>\n",
              "      <td>...</td>\n",
              "      <td>...</td>\n",
              "      <td>...</td>\n",
              "      <td>...</td>\n",
              "    </tr>\n",
              "    <tr>\n",
              "      <th>271355</th>\n",
              "      <td>0440400988</td>\n",
              "      <td>There's a Bat in Bunk Five</td>\n",
              "      <td>Paula Danziger</td>\n",
              "      <td>1988</td>\n",
              "      <td>Random House Childrens Pub (Mm)</td>\n",
              "      <td>http://images.amazon.com/images/P/0440400988.0...</td>\n",
              "      <td>http://images.amazon.com/images/P/0440400988.0...</td>\n",
              "      <td>http://images.amazon.com/images/P/0440400988.0...</td>\n",
              "    </tr>\n",
              "    <tr>\n",
              "      <th>271356</th>\n",
              "      <td>0525447644</td>\n",
              "      <td>From One to One Hundred</td>\n",
              "      <td>Teri Sloat</td>\n",
              "      <td>1991</td>\n",
              "      <td>Dutton Books</td>\n",
              "      <td>http://images.amazon.com/images/P/0525447644.0...</td>\n",
              "      <td>http://images.amazon.com/images/P/0525447644.0...</td>\n",
              "      <td>http://images.amazon.com/images/P/0525447644.0...</td>\n",
              "    </tr>\n",
              "    <tr>\n",
              "      <th>271357</th>\n",
              "      <td>006008667X</td>\n",
              "      <td>Lily Dale : The True Story of the Town that Ta...</td>\n",
              "      <td>Christine Wicker</td>\n",
              "      <td>2004</td>\n",
              "      <td>HarperSanFrancisco</td>\n",
              "      <td>http://images.amazon.com/images/P/006008667X.0...</td>\n",
              "      <td>http://images.amazon.com/images/P/006008667X.0...</td>\n",
              "      <td>http://images.amazon.com/images/P/006008667X.0...</td>\n",
              "    </tr>\n",
              "    <tr>\n",
              "      <th>271358</th>\n",
              "      <td>0192126040</td>\n",
              "      <td>Republic (World's Classics)</td>\n",
              "      <td>Plato</td>\n",
              "      <td>1996</td>\n",
              "      <td>Oxford University Press</td>\n",
              "      <td>http://images.amazon.com/images/P/0192126040.0...</td>\n",
              "      <td>http://images.amazon.com/images/P/0192126040.0...</td>\n",
              "      <td>http://images.amazon.com/images/P/0192126040.0...</td>\n",
              "    </tr>\n",
              "    <tr>\n",
              "      <th>271359</th>\n",
              "      <td>0767409752</td>\n",
              "      <td>A Guided Tour of Rene Descartes' Meditations o...</td>\n",
              "      <td>Christopher  Biffle</td>\n",
              "      <td>2000</td>\n",
              "      <td>McGraw-Hill Humanities/Social Sciences/Languages</td>\n",
              "      <td>http://images.amazon.com/images/P/0767409752.0...</td>\n",
              "      <td>http://images.amazon.com/images/P/0767409752.0...</td>\n",
              "      <td>http://images.amazon.com/images/P/0767409752.0...</td>\n",
              "    </tr>\n",
              "  </tbody>\n",
              "</table>\n",
              "<p>271347 rows × 8 columns</p>\n",
              "</div>"
            ],
            "text/plain": [
              "              ISBN                                         Book-Title  \\\n",
              "0       0195153448                                Classical Mythology   \n",
              "1       0002005018                                       Clara Callan   \n",
              "2       0060973129                               Decision in Normandy   \n",
              "3       0374157065  Flu: The Story of the Great Influenza Pandemic...   \n",
              "4       0393045218                             The Mummies of Urumchi   \n",
              "...            ...                                                ...   \n",
              "271355  0440400988                         There's a Bat in Bunk Five   \n",
              "271356  0525447644                            From One to One Hundred   \n",
              "271357  006008667X  Lily Dale : The True Story of the Town that Ta...   \n",
              "271358  0192126040                        Republic (World's Classics)   \n",
              "271359  0767409752  A Guided Tour of Rene Descartes' Meditations o...   \n",
              "\n",
              "                 Book-Author Year-Of-Publication  \\\n",
              "0         Mark P. O. Morford                2002   \n",
              "1       Richard Bruce Wright                2001   \n",
              "2               Carlo D'Este                1991   \n",
              "3           Gina Bari Kolata                1999   \n",
              "4            E. J. W. Barber                1999   \n",
              "...                      ...                 ...   \n",
              "271355        Paula Danziger                1988   \n",
              "271356            Teri Sloat                1991   \n",
              "271357      Christine Wicker                2004   \n",
              "271358                 Plato                1996   \n",
              "271359   Christopher  Biffle                2000   \n",
              "\n",
              "                                               Publisher  \\\n",
              "0                                Oxford University Press   \n",
              "1                                  HarperFlamingo Canada   \n",
              "2                                        HarperPerennial   \n",
              "3                                   Farrar Straus Giroux   \n",
              "4                             W. W. Norton &amp; Company   \n",
              "...                                                  ...   \n",
              "271355                   Random House Childrens Pub (Mm)   \n",
              "271356                                      Dutton Books   \n",
              "271357                                HarperSanFrancisco   \n",
              "271358                           Oxford University Press   \n",
              "271359  McGraw-Hill Humanities/Social Sciences/Languages   \n",
              "\n",
              "                                              Image-URL-S  \\\n",
              "0       http://images.amazon.com/images/P/0195153448.0...   \n",
              "1       http://images.amazon.com/images/P/0002005018.0...   \n",
              "2       http://images.amazon.com/images/P/0060973129.0...   \n",
              "3       http://images.amazon.com/images/P/0374157065.0...   \n",
              "4       http://images.amazon.com/images/P/0393045218.0...   \n",
              "...                                                   ...   \n",
              "271355  http://images.amazon.com/images/P/0440400988.0...   \n",
              "271356  http://images.amazon.com/images/P/0525447644.0...   \n",
              "271357  http://images.amazon.com/images/P/006008667X.0...   \n",
              "271358  http://images.amazon.com/images/P/0192126040.0...   \n",
              "271359  http://images.amazon.com/images/P/0767409752.0...   \n",
              "\n",
              "                                              Image-URL-M  \\\n",
              "0       http://images.amazon.com/images/P/0195153448.0...   \n",
              "1       http://images.amazon.com/images/P/0002005018.0...   \n",
              "2       http://images.amazon.com/images/P/0060973129.0...   \n",
              "3       http://images.amazon.com/images/P/0374157065.0...   \n",
              "4       http://images.amazon.com/images/P/0393045218.0...   \n",
              "...                                                   ...   \n",
              "271355  http://images.amazon.com/images/P/0440400988.0...   \n",
              "271356  http://images.amazon.com/images/P/0525447644.0...   \n",
              "271357  http://images.amazon.com/images/P/006008667X.0...   \n",
              "271358  http://images.amazon.com/images/P/0192126040.0...   \n",
              "271359  http://images.amazon.com/images/P/0767409752.0...   \n",
              "\n",
              "                                              Image-URL-L  \n",
              "0       http://images.amazon.com/images/P/0195153448.0...  \n",
              "1       http://images.amazon.com/images/P/0002005018.0...  \n",
              "2       http://images.amazon.com/images/P/0060973129.0...  \n",
              "3       http://images.amazon.com/images/P/0374157065.0...  \n",
              "4       http://images.amazon.com/images/P/0393045218.0...  \n",
              "...                                                   ...  \n",
              "271355  http://images.amazon.com/images/P/0440400988.0...  \n",
              "271356  http://images.amazon.com/images/P/0525447644.0...  \n",
              "271357  http://images.amazon.com/images/P/006008667X.0...  \n",
              "271358  http://images.amazon.com/images/P/0192126040.0...  \n",
              "271359  http://images.amazon.com/images/P/0767409752.0...  \n",
              "\n",
              "[271347 rows x 8 columns]"
            ]
          },
          "execution_count": 25,
          "metadata": {},
          "output_type": "execute_result"
        }
      ],
      "source": [
        "#There exists data which is Published after 2023, which is invalid\n",
        "books = books[ books['Year-Of-Publication'] <= 2023 ]\n",
        "books"
      ]
    },
    {
      "cell_type": "code",
      "execution_count": null,
      "id": "7313a1e1",
      "metadata": {
        "execution": {
          "iopub.execute_input": "2023-09-07T12:13:24.187227Z",
          "iopub.status.busy": "2023-09-07T12:13:24.186448Z",
          "iopub.status.idle": "2023-09-07T12:13:24.265428Z",
          "shell.execute_reply": "2023-09-07T12:13:24.264316Z"
        },
        "papermill": {
          "duration": 0.104398,
          "end_time": "2023-09-07T12:13:24.268067",
          "exception": false,
          "start_time": "2023-09-07T12:13:24.163669",
          "status": "completed"
        },
        "tags": [],
        "id": "7313a1e1",
        "outputId": "17768eb9-e05c-4975-d594-0e412522b2c3"
      },
      "outputs": [
        {
          "data": {
            "text/plain": [
              "count     271347\n",
              "unique       110\n",
              "top         2002\n",
              "freq       17627\n",
              "Name: Year-Of-Publication, dtype: int64"
            ]
          },
          "execution_count": 26,
          "metadata": {},
          "output_type": "execute_result"
        }
      ],
      "source": [
        "books['Year-Of-Publication'].describe()"
      ]
    },
    {
      "cell_type": "code",
      "execution_count": null,
      "id": "a085b75e",
      "metadata": {
        "execution": {
          "iopub.execute_input": "2023-09-07T12:13:24.313110Z",
          "iopub.status.busy": "2023-09-07T12:13:24.312710Z",
          "iopub.status.idle": "2023-09-07T12:13:24.545491Z",
          "shell.execute_reply": "2023-09-07T12:13:24.544425Z"
        },
        "papermill": {
          "duration": 0.258127,
          "end_time": "2023-09-07T12:13:24.548134",
          "exception": false,
          "start_time": "2023-09-07T12:13:24.290007",
          "status": "completed"
        },
        "scrolled": true,
        "tags": [],
        "id": "a085b75e",
        "outputId": "3771f60f-b3ec-40da-bf46-c19748bb6b30"
      },
      "outputs": [
        {
          "data": {
            "text/plain": [
              "ISBN                   0\n",
              "Book-Title             0\n",
              "Book-Author            5\n",
              "Year-Of-Publication    0\n",
              "Publisher              2\n",
              "Image-URL-S            0\n",
              "Image-URL-M            0\n",
              "Image-URL-L            2\n",
              "dtype: int64"
            ]
          },
          "execution_count": 27,
          "metadata": {},
          "output_type": "execute_result"
        }
      ],
      "source": [
        "books.isnull().sum()"
      ]
    },
    {
      "cell_type": "code",
      "execution_count": null,
      "id": "4a67401e",
      "metadata": {
        "execution": {
          "iopub.execute_input": "2023-09-07T12:13:24.594211Z",
          "iopub.status.busy": "2023-09-07T12:13:24.593458Z",
          "iopub.status.idle": "2023-09-07T12:13:24.658579Z",
          "shell.execute_reply": "2023-09-07T12:13:24.657285Z"
        },
        "papermill": {
          "duration": 0.090909,
          "end_time": "2023-09-07T12:13:24.661034",
          "exception": false,
          "start_time": "2023-09-07T12:13:24.570125",
          "status": "completed"
        },
        "scrolled": true,
        "tags": [],
        "id": "4a67401e",
        "outputId": "e17e7dca-9f4f-450d-fc0d-0ee6c29ee11a"
      },
      "outputs": [
        {
          "data": {
            "text/plain": [
              "Publisher\n",
              "Harlequin                  7535\n",
              "Silhouette                 4220\n",
              "Pocket                     3905\n",
              "Ballantine Books           3783\n",
              "Bantam Books               3646\n",
              "                           ... \n",
              "Polaris Books                 1\n",
              "Hannover House                1\n",
              "Amber Quill Press, LLC.       1\n",
              "Lunchbox Press                1\n",
              "Connaught                     1\n",
              "Name: count, Length: 16806, dtype: int64"
            ]
          },
          "execution_count": 28,
          "metadata": {},
          "output_type": "execute_result"
        }
      ],
      "source": [
        "books['Publisher'].value_counts()"
      ]
    },
    {
      "cell_type": "code",
      "execution_count": null,
      "id": "24853e26",
      "metadata": {
        "execution": {
          "iopub.execute_input": "2023-09-07T12:13:24.709930Z",
          "iopub.status.busy": "2023-09-07T12:13:24.709255Z",
          "iopub.status.idle": "2023-09-07T12:13:24.800263Z",
          "shell.execute_reply": "2023-09-07T12:13:24.799108Z"
        },
        "papermill": {
          "duration": 0.12005,
          "end_time": "2023-09-07T12:13:24.803008",
          "exception": false,
          "start_time": "2023-09-07T12:13:24.682958",
          "status": "completed"
        },
        "tags": [],
        "id": "24853e26",
        "outputId": "c02fd449-acc6-4b34-8574-cba151a388ef"
      },
      "outputs": [
        {
          "data": {
            "text/plain": [
              "count        271345\n",
              "unique        16806\n",
              "top       Harlequin\n",
              "freq           7535\n",
              "Name: Publisher, dtype: object"
            ]
          },
          "execution_count": 29,
          "metadata": {},
          "output_type": "execute_result"
        }
      ],
      "source": [
        "books['Publisher'].describe()"
      ]
    },
    {
      "cell_type": "code",
      "execution_count": null,
      "id": "7f6a8a85",
      "metadata": {
        "execution": {
          "iopub.execute_input": "2023-09-07T12:13:24.849456Z",
          "iopub.status.busy": "2023-09-07T12:13:24.848757Z",
          "iopub.status.idle": "2023-09-07T12:13:24.868115Z",
          "shell.execute_reply": "2023-09-07T12:13:24.866889Z"
        },
        "papermill": {
          "duration": 0.046082,
          "end_time": "2023-09-07T12:13:24.871091",
          "exception": false,
          "start_time": "2023-09-07T12:13:24.825009",
          "status": "completed"
        },
        "tags": [],
        "id": "7f6a8a85",
        "outputId": "f6a9e15e-9caa-4bef-bc97-d68098b283ec"
      },
      "outputs": [
        {
          "data": {
            "text/html": [
              "<div>\n",
              "<style scoped>\n",
              "    .dataframe tbody tr th:only-of-type {\n",
              "        vertical-align: middle;\n",
              "    }\n",
              "\n",
              "    .dataframe tbody tr th {\n",
              "        vertical-align: top;\n",
              "    }\n",
              "\n",
              "    .dataframe thead th {\n",
              "        text-align: right;\n",
              "    }\n",
              "</style>\n",
              "<table border=\"1\" class=\"dataframe\">\n",
              "  <thead>\n",
              "    <tr style=\"text-align: right;\">\n",
              "      <th></th>\n",
              "      <th>User-ID</th>\n",
              "      <th>Location</th>\n",
              "      <th>Age</th>\n",
              "    </tr>\n",
              "  </thead>\n",
              "  <tbody>\n",
              "    <tr>\n",
              "      <th>72313</th>\n",
              "      <td>72314</td>\n",
              "      <td>brooklyn, new york, usa</td>\n",
              "      <td>22.0</td>\n",
              "    </tr>\n",
              "    <tr>\n",
              "      <th>272103</th>\n",
              "      <td>272104</td>\n",
              "      <td>amsterdam, nord holland, netherlands</td>\n",
              "      <td>26.0</td>\n",
              "    </tr>\n",
              "    <tr>\n",
              "      <th>13526</th>\n",
              "      <td>13527</td>\n",
              "      <td>bergamo, lombardia, italy</td>\n",
              "      <td>NaN</td>\n",
              "    </tr>\n",
              "    <tr>\n",
              "      <th>53733</th>\n",
              "      <td>53734</td>\n",
              "      <td>verona, veneto, italy</td>\n",
              "      <td>NaN</td>\n",
              "    </tr>\n",
              "    <tr>\n",
              "      <th>88355</th>\n",
              "      <td>88356</td>\n",
              "      <td>rotterdam, zuid-holland, netherlands</td>\n",
              "      <td>NaN</td>\n",
              "    </tr>\n",
              "  </tbody>\n",
              "</table>\n",
              "</div>"
            ],
            "text/plain": [
              "        User-ID                              Location   Age\n",
              "72313     72314               brooklyn, new york, usa  22.0\n",
              "272103   272104  amsterdam, nord holland, netherlands  26.0\n",
              "13526     13527             bergamo, lombardia, italy   NaN\n",
              "53733     53734                 verona, veneto, italy   NaN\n",
              "88355     88356  rotterdam, zuid-holland, netherlands   NaN"
            ]
          },
          "execution_count": 30,
          "metadata": {},
          "output_type": "execute_result"
        }
      ],
      "source": [
        "users.sample(5)"
      ]
    },
    {
      "cell_type": "code",
      "execution_count": null,
      "id": "2209812f",
      "metadata": {
        "execution": {
          "iopub.execute_input": "2023-09-07T12:13:24.919347Z",
          "iopub.status.busy": "2023-09-07T12:13:24.918685Z",
          "iopub.status.idle": "2023-09-07T12:13:24.973014Z",
          "shell.execute_reply": "2023-09-07T12:13:24.971767Z"
        },
        "papermill": {
          "duration": 0.08095,
          "end_time": "2023-09-07T12:13:24.975680",
          "exception": false,
          "start_time": "2023-09-07T12:13:24.894730",
          "status": "completed"
        },
        "tags": [],
        "id": "2209812f",
        "outputId": "4b885755-0494-471f-eadd-3a0b0bd62174"
      },
      "outputs": [
        {
          "data": {
            "text/html": [
              "<div>\n",
              "<style scoped>\n",
              "    .dataframe tbody tr th:only-of-type {\n",
              "        vertical-align: middle;\n",
              "    }\n",
              "\n",
              "    .dataframe tbody tr th {\n",
              "        vertical-align: top;\n",
              "    }\n",
              "\n",
              "    .dataframe thead th {\n",
              "        text-align: right;\n",
              "    }\n",
              "</style>\n",
              "<table border=\"1\" class=\"dataframe\">\n",
              "  <thead>\n",
              "    <tr style=\"text-align: right;\">\n",
              "      <th></th>\n",
              "      <th>User-ID</th>\n",
              "      <th>ISBN</th>\n",
              "      <th>Book-Rating</th>\n",
              "    </tr>\n",
              "  </thead>\n",
              "  <tbody>\n",
              "    <tr>\n",
              "      <th>17099</th>\n",
              "      <td>2977</td>\n",
              "      <td>0684810387</td>\n",
              "      <td>0</td>\n",
              "    </tr>\n",
              "    <tr>\n",
              "      <th>130919</th>\n",
              "      <td>30276</td>\n",
              "      <td>156054175X</td>\n",
              "      <td>9</td>\n",
              "    </tr>\n",
              "    <tr>\n",
              "      <th>993084</th>\n",
              "      <td>238625</td>\n",
              "      <td>340412846X</td>\n",
              "      <td>0</td>\n",
              "    </tr>\n",
              "    <tr>\n",
              "      <th>565546</th>\n",
              "      <td>135831</td>\n",
              "      <td>0743237188</td>\n",
              "      <td>0</td>\n",
              "    </tr>\n",
              "    <tr>\n",
              "      <th>375266</th>\n",
              "      <td>90217</td>\n",
              "      <td>0345426800</td>\n",
              "      <td>7</td>\n",
              "    </tr>\n",
              "  </tbody>\n",
              "</table>\n",
              "</div>"
            ],
            "text/plain": [
              "        User-ID        ISBN  Book-Rating\n",
              "17099      2977  0684810387            0\n",
              "130919    30276  156054175X            9\n",
              "993084   238625  340412846X            0\n",
              "565546   135831  0743237188            0\n",
              "375266    90217  0345426800            7"
            ]
          },
          "execution_count": 31,
          "metadata": {},
          "output_type": "execute_result"
        }
      ],
      "source": [
        "ratings.sample(5)"
      ]
    },
    {
      "cell_type": "code",
      "execution_count": null,
      "id": "7f91a3c5",
      "metadata": {
        "execution": {
          "iopub.execute_input": "2023-09-07T12:13:25.023459Z",
          "iopub.status.busy": "2023-09-07T12:13:25.022767Z",
          "iopub.status.idle": "2023-09-07T12:13:26.282616Z",
          "shell.execute_reply": "2023-09-07T12:13:26.281428Z"
        },
        "papermill": {
          "duration": 1.28693,
          "end_time": "2023-09-07T12:13:26.285460",
          "exception": false,
          "start_time": "2023-09-07T12:13:24.998530",
          "status": "completed"
        },
        "tags": [],
        "id": "7f91a3c5"
      },
      "outputs": [],
      "source": [
        "# Merging the 'ratings' and 'books' DataFrames on the 'ISBN' column\n",
        "ratings_and_books = ratings.merge(books, on=\"ISBN\")"
      ]
    },
    {
      "cell_type": "code",
      "execution_count": null,
      "id": "e51a18d3",
      "metadata": {
        "execution": {
          "iopub.execute_input": "2023-09-07T12:13:26.332983Z",
          "iopub.status.busy": "2023-09-07T12:13:26.332587Z",
          "iopub.status.idle": "2023-09-07T12:13:26.339353Z",
          "shell.execute_reply": "2023-09-07T12:13:26.337854Z"
        },
        "papermill": {
          "duration": 0.033702,
          "end_time": "2023-09-07T12:13:26.341853",
          "exception": false,
          "start_time": "2023-09-07T12:13:26.308151",
          "status": "completed"
        },
        "tags": [],
        "id": "e51a18d3",
        "outputId": "d75f7758-0588-43a1-f203-ec91c52d134e"
      },
      "outputs": [
        {
          "data": {
            "text/plain": [
              "(1031082, 10)"
            ]
          },
          "execution_count": 33,
          "metadata": {},
          "output_type": "execute_result"
        }
      ],
      "source": [
        "ratings_and_books.shape"
      ]
    },
    {
      "cell_type": "code",
      "execution_count": null,
      "id": "87f3c81d",
      "metadata": {
        "execution": {
          "iopub.execute_input": "2023-09-07T12:13:26.389789Z",
          "iopub.status.busy": "2023-09-07T12:13:26.389361Z",
          "iopub.status.idle": "2023-09-07T12:13:26.405588Z",
          "shell.execute_reply": "2023-09-07T12:13:26.404523Z"
        },
        "papermill": {
          "duration": 0.043325,
          "end_time": "2023-09-07T12:13:26.407985",
          "exception": false,
          "start_time": "2023-09-07T12:13:26.364660",
          "status": "completed"
        },
        "scrolled": true,
        "tags": [],
        "id": "87f3c81d",
        "outputId": "8d31da96-3adc-4248-f7e3-38fb68e7cae9"
      },
      "outputs": [
        {
          "data": {
            "text/html": [
              "<div>\n",
              "<style scoped>\n",
              "    .dataframe tbody tr th:only-of-type {\n",
              "        vertical-align: middle;\n",
              "    }\n",
              "\n",
              "    .dataframe tbody tr th {\n",
              "        vertical-align: top;\n",
              "    }\n",
              "\n",
              "    .dataframe thead th {\n",
              "        text-align: right;\n",
              "    }\n",
              "</style>\n",
              "<table border=\"1\" class=\"dataframe\">\n",
              "  <thead>\n",
              "    <tr style=\"text-align: right;\">\n",
              "      <th></th>\n",
              "      <th>User-ID</th>\n",
              "      <th>ISBN</th>\n",
              "      <th>Book-Rating</th>\n",
              "      <th>Book-Title</th>\n",
              "      <th>Book-Author</th>\n",
              "      <th>Year-Of-Publication</th>\n",
              "      <th>Publisher</th>\n",
              "      <th>Image-URL-S</th>\n",
              "      <th>Image-URL-M</th>\n",
              "      <th>Image-URL-L</th>\n",
              "    </tr>\n",
              "  </thead>\n",
              "  <tbody>\n",
              "    <tr>\n",
              "      <th>0</th>\n",
              "      <td>276725</td>\n",
              "      <td>034545104X</td>\n",
              "      <td>0</td>\n",
              "      <td>Flesh Tones: A Novel</td>\n",
              "      <td>M. J. Rose</td>\n",
              "      <td>2002</td>\n",
              "      <td>Ballantine Books</td>\n",
              "      <td>http://images.amazon.com/images/P/034545104X.0...</td>\n",
              "      <td>http://images.amazon.com/images/P/034545104X.0...</td>\n",
              "      <td>http://images.amazon.com/images/P/034545104X.0...</td>\n",
              "    </tr>\n",
              "    <tr>\n",
              "      <th>1</th>\n",
              "      <td>2313</td>\n",
              "      <td>034545104X</td>\n",
              "      <td>5</td>\n",
              "      <td>Flesh Tones: A Novel</td>\n",
              "      <td>M. J. Rose</td>\n",
              "      <td>2002</td>\n",
              "      <td>Ballantine Books</td>\n",
              "      <td>http://images.amazon.com/images/P/034545104X.0...</td>\n",
              "      <td>http://images.amazon.com/images/P/034545104X.0...</td>\n",
              "      <td>http://images.amazon.com/images/P/034545104X.0...</td>\n",
              "    </tr>\n",
              "    <tr>\n",
              "      <th>2</th>\n",
              "      <td>6543</td>\n",
              "      <td>034545104X</td>\n",
              "      <td>0</td>\n",
              "      <td>Flesh Tones: A Novel</td>\n",
              "      <td>M. J. Rose</td>\n",
              "      <td>2002</td>\n",
              "      <td>Ballantine Books</td>\n",
              "      <td>http://images.amazon.com/images/P/034545104X.0...</td>\n",
              "      <td>http://images.amazon.com/images/P/034545104X.0...</td>\n",
              "      <td>http://images.amazon.com/images/P/034545104X.0...</td>\n",
              "    </tr>\n",
              "    <tr>\n",
              "      <th>3</th>\n",
              "      <td>8680</td>\n",
              "      <td>034545104X</td>\n",
              "      <td>5</td>\n",
              "      <td>Flesh Tones: A Novel</td>\n",
              "      <td>M. J. Rose</td>\n",
              "      <td>2002</td>\n",
              "      <td>Ballantine Books</td>\n",
              "      <td>http://images.amazon.com/images/P/034545104X.0...</td>\n",
              "      <td>http://images.amazon.com/images/P/034545104X.0...</td>\n",
              "      <td>http://images.amazon.com/images/P/034545104X.0...</td>\n",
              "    </tr>\n",
              "    <tr>\n",
              "      <th>4</th>\n",
              "      <td>10314</td>\n",
              "      <td>034545104X</td>\n",
              "      <td>9</td>\n",
              "      <td>Flesh Tones: A Novel</td>\n",
              "      <td>M. J. Rose</td>\n",
              "      <td>2002</td>\n",
              "      <td>Ballantine Books</td>\n",
              "      <td>http://images.amazon.com/images/P/034545104X.0...</td>\n",
              "      <td>http://images.amazon.com/images/P/034545104X.0...</td>\n",
              "      <td>http://images.amazon.com/images/P/034545104X.0...</td>\n",
              "    </tr>\n",
              "  </tbody>\n",
              "</table>\n",
              "</div>"
            ],
            "text/plain": [
              "   User-ID        ISBN  Book-Rating            Book-Title Book-Author  \\\n",
              "0   276725  034545104X            0  Flesh Tones: A Novel  M. J. Rose   \n",
              "1     2313  034545104X            5  Flesh Tones: A Novel  M. J. Rose   \n",
              "2     6543  034545104X            0  Flesh Tones: A Novel  M. J. Rose   \n",
              "3     8680  034545104X            5  Flesh Tones: A Novel  M. J. Rose   \n",
              "4    10314  034545104X            9  Flesh Tones: A Novel  M. J. Rose   \n",
              "\n",
              "  Year-Of-Publication         Publisher  \\\n",
              "0                2002  Ballantine Books   \n",
              "1                2002  Ballantine Books   \n",
              "2                2002  Ballantine Books   \n",
              "3                2002  Ballantine Books   \n",
              "4                2002  Ballantine Books   \n",
              "\n",
              "                                         Image-URL-S  \\\n",
              "0  http://images.amazon.com/images/P/034545104X.0...   \n",
              "1  http://images.amazon.com/images/P/034545104X.0...   \n",
              "2  http://images.amazon.com/images/P/034545104X.0...   \n",
              "3  http://images.amazon.com/images/P/034545104X.0...   \n",
              "4  http://images.amazon.com/images/P/034545104X.0...   \n",
              "\n",
              "                                         Image-URL-M  \\\n",
              "0  http://images.amazon.com/images/P/034545104X.0...   \n",
              "1  http://images.amazon.com/images/P/034545104X.0...   \n",
              "2  http://images.amazon.com/images/P/034545104X.0...   \n",
              "3  http://images.amazon.com/images/P/034545104X.0...   \n",
              "4  http://images.amazon.com/images/P/034545104X.0...   \n",
              "\n",
              "                                         Image-URL-L  \n",
              "0  http://images.amazon.com/images/P/034545104X.0...  \n",
              "1  http://images.amazon.com/images/P/034545104X.0...  \n",
              "2  http://images.amazon.com/images/P/034545104X.0...  \n",
              "3  http://images.amazon.com/images/P/034545104X.0...  \n",
              "4  http://images.amazon.com/images/P/034545104X.0...  "
            ]
          },
          "execution_count": 34,
          "metadata": {},
          "output_type": "execute_result"
        }
      ],
      "source": [
        "ratings_and_books.head(5)"
      ]
    },
    {
      "cell_type": "markdown",
      "id": "c1b3bd4d",
      "metadata": {
        "papermill": {
          "duration": 0.023349,
          "end_time": "2023-09-07T12:13:26.454343",
          "exception": false,
          "start_time": "2023-09-07T12:13:26.430994",
          "status": "completed"
        },
        "tags": [],
        "id": "c1b3bd4d"
      },
      "source": [
        "# In this Dataset, we will working on the Users who gave more than 200 ratings and books which got at least 50 ratings (Knowledged users and famous books)"
      ]
    },
    {
      "cell_type": "code",
      "execution_count": null,
      "id": "43bd11f0",
      "metadata": {
        "execution": {
          "iopub.execute_input": "2023-09-07T12:13:26.502865Z",
          "iopub.status.busy": "2023-09-07T12:13:26.502443Z",
          "iopub.status.idle": "2023-09-07T12:13:27.502569Z",
          "shell.execute_reply": "2023-09-07T12:13:27.501351Z"
        },
        "papermill": {
          "duration": 1.027511,
          "end_time": "2023-09-07T12:13:27.505516",
          "exception": false,
          "start_time": "2023-09-07T12:13:26.478005",
          "status": "completed"
        },
        "tags": [],
        "id": "43bd11f0"
      },
      "outputs": [],
      "source": [
        "# Finding users who gave than 200 ratings\n",
        "x = ratings_and_books.groupby('User-ID').count()['Book-Rating'] > 200\n",
        "reading_users = x[x].index"
      ]
    },
    {
      "cell_type": "code",
      "execution_count": null,
      "id": "ecc9a924",
      "metadata": {
        "execution": {
          "iopub.execute_input": "2023-09-07T12:13:27.553520Z",
          "iopub.status.busy": "2023-09-07T12:13:27.553063Z",
          "iopub.status.idle": "2023-09-07T12:13:27.666878Z",
          "shell.execute_reply": "2023-09-07T12:13:27.665645Z"
        },
        "papermill": {
          "duration": 0.141121,
          "end_time": "2023-09-07T12:13:27.669595",
          "exception": false,
          "start_time": "2023-09-07T12:13:27.528474",
          "status": "completed"
        },
        "tags": [],
        "id": "ecc9a924"
      },
      "outputs": [],
      "source": [
        "# This code filters ratings_and_books DataFrame to include only User-IDs present in the 'reading_users' list.\n",
        "# The result is stored in 'filtered_rating' variable.\n",
        "filtered_rating = ratings_and_books[ratings_and_books['User-ID'].isin(reading_users)]"
      ]
    },
    {
      "cell_type": "code",
      "execution_count": null,
      "id": "8dbb3631",
      "metadata": {
        "execution": {
          "iopub.execute_input": "2023-09-07T12:13:27.717898Z",
          "iopub.status.busy": "2023-09-07T12:13:27.717471Z",
          "iopub.status.idle": "2023-09-07T12:13:28.643555Z",
          "shell.execute_reply": "2023-09-07T12:13:28.642462Z"
        },
        "papermill": {
          "duration": 0.953769,
          "end_time": "2023-09-07T12:13:28.646363",
          "exception": false,
          "start_time": "2023-09-07T12:13:27.692594",
          "status": "completed"
        },
        "tags": [],
        "id": "8dbb3631"
      },
      "outputs": [],
      "source": [
        "# Finding books which got more 50 ratings\n",
        "y = filtered_rating.groupby('Book-Title').count()['Book-Rating'] > 50\n",
        "nice_books = y[y].index"
      ]
    },
    {
      "cell_type": "code",
      "execution_count": null,
      "id": "e6257e70",
      "metadata": {
        "execution": {
          "iopub.execute_input": "2023-09-07T12:13:28.694677Z",
          "iopub.status.busy": "2023-09-07T12:13:28.694256Z",
          "iopub.status.idle": "2023-09-07T12:13:28.839512Z",
          "shell.execute_reply": "2023-09-07T12:13:28.838521Z"
        },
        "papermill": {
          "duration": 0.172283,
          "end_time": "2023-09-07T12:13:28.842156",
          "exception": false,
          "start_time": "2023-09-07T12:13:28.669873",
          "status": "completed"
        },
        "tags": [],
        "id": "e6257e70"
      },
      "outputs": [],
      "source": [
        "# This code filters 'ratings_and_books' DataFrame to include only rows where 'Book-Title' matches titles in 'nice_books'.\n",
        "# The result is stored in 'final_books' variable.\n",
        "final_books = ratings_and_books[ratings_and_books['Book-Title'].isin(nice_books)]"
      ]
    },
    {
      "cell_type": "code",
      "execution_count": null,
      "id": "b08b9b89",
      "metadata": {
        "execution": {
          "iopub.execute_input": "2023-09-07T12:13:28.892107Z",
          "iopub.status.busy": "2023-09-07T12:13:28.891718Z",
          "iopub.status.idle": "2023-09-07T12:13:28.912892Z",
          "shell.execute_reply": "2023-09-07T12:13:28.911719Z"
        },
        "papermill": {
          "duration": 0.050359,
          "end_time": "2023-09-07T12:13:28.915386",
          "exception": false,
          "start_time": "2023-09-07T12:13:28.865027",
          "status": "completed"
        },
        "tags": [],
        "id": "b08b9b89",
        "outputId": "60a8f5a8-868e-48f9-f761-a5bf7c35f863"
      },
      "outputs": [
        {
          "data": {
            "text/html": [
              "<div>\n",
              "<style scoped>\n",
              "    .dataframe tbody tr th:only-of-type {\n",
              "        vertical-align: middle;\n",
              "    }\n",
              "\n",
              "    .dataframe tbody tr th {\n",
              "        vertical-align: top;\n",
              "    }\n",
              "\n",
              "    .dataframe thead th {\n",
              "        text-align: right;\n",
              "    }\n",
              "</style>\n",
              "<table border=\"1\" class=\"dataframe\">\n",
              "  <thead>\n",
              "    <tr style=\"text-align: right;\">\n",
              "      <th></th>\n",
              "      <th>User-ID</th>\n",
              "      <th>ISBN</th>\n",
              "      <th>Book-Rating</th>\n",
              "      <th>Book-Title</th>\n",
              "      <th>Book-Author</th>\n",
              "      <th>Year-Of-Publication</th>\n",
              "      <th>Publisher</th>\n",
              "      <th>Image-URL-S</th>\n",
              "      <th>Image-URL-M</th>\n",
              "      <th>Image-URL-L</th>\n",
              "    </tr>\n",
              "  </thead>\n",
              "  <tbody>\n",
              "    <tr>\n",
              "      <th>62</th>\n",
              "      <td>276727</td>\n",
              "      <td>0446520802</td>\n",
              "      <td>0</td>\n",
              "      <td>The Notebook</td>\n",
              "      <td>Nicholas Sparks</td>\n",
              "      <td>1996</td>\n",
              "      <td>Warner Books</td>\n",
              "      <td>http://images.amazon.com/images/P/0446520802.0...</td>\n",
              "      <td>http://images.amazon.com/images/P/0446520802.0...</td>\n",
              "      <td>http://images.amazon.com/images/P/0446520802.0...</td>\n",
              "    </tr>\n",
              "    <tr>\n",
              "      <th>63</th>\n",
              "      <td>278418</td>\n",
              "      <td>0446520802</td>\n",
              "      <td>0</td>\n",
              "      <td>The Notebook</td>\n",
              "      <td>Nicholas Sparks</td>\n",
              "      <td>1996</td>\n",
              "      <td>Warner Books</td>\n",
              "      <td>http://images.amazon.com/images/P/0446520802.0...</td>\n",
              "      <td>http://images.amazon.com/images/P/0446520802.0...</td>\n",
              "      <td>http://images.amazon.com/images/P/0446520802.0...</td>\n",
              "    </tr>\n",
              "    <tr>\n",
              "      <th>64</th>\n",
              "      <td>638</td>\n",
              "      <td>0446520802</td>\n",
              "      <td>0</td>\n",
              "      <td>The Notebook</td>\n",
              "      <td>Nicholas Sparks</td>\n",
              "      <td>1996</td>\n",
              "      <td>Warner Books</td>\n",
              "      <td>http://images.amazon.com/images/P/0446520802.0...</td>\n",
              "      <td>http://images.amazon.com/images/P/0446520802.0...</td>\n",
              "      <td>http://images.amazon.com/images/P/0446520802.0...</td>\n",
              "    </tr>\n",
              "    <tr>\n",
              "      <th>65</th>\n",
              "      <td>3363</td>\n",
              "      <td>0446520802</td>\n",
              "      <td>0</td>\n",
              "      <td>The Notebook</td>\n",
              "      <td>Nicholas Sparks</td>\n",
              "      <td>1996</td>\n",
              "      <td>Warner Books</td>\n",
              "      <td>http://images.amazon.com/images/P/0446520802.0...</td>\n",
              "      <td>http://images.amazon.com/images/P/0446520802.0...</td>\n",
              "      <td>http://images.amazon.com/images/P/0446520802.0...</td>\n",
              "    </tr>\n",
              "    <tr>\n",
              "      <th>66</th>\n",
              "      <td>7158</td>\n",
              "      <td>0446520802</td>\n",
              "      <td>10</td>\n",
              "      <td>The Notebook</td>\n",
              "      <td>Nicholas Sparks</td>\n",
              "      <td>1996</td>\n",
              "      <td>Warner Books</td>\n",
              "      <td>http://images.amazon.com/images/P/0446520802.0...</td>\n",
              "      <td>http://images.amazon.com/images/P/0446520802.0...</td>\n",
              "      <td>http://images.amazon.com/images/P/0446520802.0...</td>\n",
              "    </tr>\n",
              "    <tr>\n",
              "      <th>...</th>\n",
              "      <td>...</td>\n",
              "      <td>...</td>\n",
              "      <td>...</td>\n",
              "      <td>...</td>\n",
              "      <td>...</td>\n",
              "      <td>...</td>\n",
              "      <td>...</td>\n",
              "      <td>...</td>\n",
              "      <td>...</td>\n",
              "      <td>...</td>\n",
              "    </tr>\n",
              "    <tr>\n",
              "      <th>1027869</th>\n",
              "      <td>269566</td>\n",
              "      <td>0670809381</td>\n",
              "      <td>0</td>\n",
              "      <td>Echoes</td>\n",
              "      <td>Maeve Binchy</td>\n",
              "      <td>1986</td>\n",
              "      <td>Penguin USA</td>\n",
              "      <td>http://images.amazon.com/images/P/0670809381.0...</td>\n",
              "      <td>http://images.amazon.com/images/P/0670809381.0...</td>\n",
              "      <td>http://images.amazon.com/images/P/0670809381.0...</td>\n",
              "    </tr>\n",
              "    <tr>\n",
              "      <th>1028723</th>\n",
              "      <td>271284</td>\n",
              "      <td>0440910927</td>\n",
              "      <td>0</td>\n",
              "      <td>The Rainmaker</td>\n",
              "      <td>John Grisham</td>\n",
              "      <td>1995</td>\n",
              "      <td>Island</td>\n",
              "      <td>http://images.amazon.com/images/P/0440910927.0...</td>\n",
              "      <td>http://images.amazon.com/images/P/0440910927.0...</td>\n",
              "      <td>http://images.amazon.com/images/P/0440910927.0...</td>\n",
              "    </tr>\n",
              "    <tr>\n",
              "      <th>1029016</th>\n",
              "      <td>271705</td>\n",
              "      <td>B0001PIOX4</td>\n",
              "      <td>0</td>\n",
              "      <td>Fahrenheit 451</td>\n",
              "      <td>Ray Bradbury</td>\n",
              "      <td>1993</td>\n",
              "      <td>Simon &amp;amp; Schuster</td>\n",
              "      <td>http://images.amazon.com/images/P/B0001PIOX4.0...</td>\n",
              "      <td>http://images.amazon.com/images/P/B0001PIOX4.0...</td>\n",
              "      <td>http://images.amazon.com/images/P/B0001PIOX4.0...</td>\n",
              "    </tr>\n",
              "    <tr>\n",
              "      <th>1030309</th>\n",
              "      <td>274808</td>\n",
              "      <td>0449701913</td>\n",
              "      <td>0</td>\n",
              "      <td>Homecoming</td>\n",
              "      <td>Cynthia Voigt</td>\n",
              "      <td>1983</td>\n",
              "      <td>Fawcett Books</td>\n",
              "      <td>http://images.amazon.com/images/P/0449701913.0...</td>\n",
              "      <td>http://images.amazon.com/images/P/0449701913.0...</td>\n",
              "      <td>http://images.amazon.com/images/P/0449701913.0...</td>\n",
              "    </tr>\n",
              "    <tr>\n",
              "      <th>1030814</th>\n",
              "      <td>275970</td>\n",
              "      <td>1586210661</td>\n",
              "      <td>9</td>\n",
              "      <td>Me Talk Pretty One Day</td>\n",
              "      <td>David Sedaris</td>\n",
              "      <td>2001</td>\n",
              "      <td>Time Warner Audio Major</td>\n",
              "      <td>http://images.amazon.com/images/P/1586210661.0...</td>\n",
              "      <td>http://images.amazon.com/images/P/1586210661.0...</td>\n",
              "      <td>http://images.amazon.com/images/P/1586210661.0...</td>\n",
              "    </tr>\n",
              "  </tbody>\n",
              "</table>\n",
              "<p>154153 rows × 10 columns</p>\n",
              "</div>"
            ],
            "text/plain": [
              "         User-ID        ISBN  Book-Rating              Book-Title  \\\n",
              "62        276727  0446520802            0            The Notebook   \n",
              "63        278418  0446520802            0            The Notebook   \n",
              "64           638  0446520802            0            The Notebook   \n",
              "65          3363  0446520802            0            The Notebook   \n",
              "66          7158  0446520802           10            The Notebook   \n",
              "...          ...         ...          ...                     ...   \n",
              "1027869   269566  0670809381            0                  Echoes   \n",
              "1028723   271284  0440910927            0           The Rainmaker   \n",
              "1029016   271705  B0001PIOX4            0          Fahrenheit 451   \n",
              "1030309   274808  0449701913            0              Homecoming   \n",
              "1030814   275970  1586210661            9  Me Talk Pretty One Day   \n",
              "\n",
              "             Book-Author Year-Of-Publication                Publisher  \\\n",
              "62       Nicholas Sparks                1996             Warner Books   \n",
              "63       Nicholas Sparks                1996             Warner Books   \n",
              "64       Nicholas Sparks                1996             Warner Books   \n",
              "65       Nicholas Sparks                1996             Warner Books   \n",
              "66       Nicholas Sparks                1996             Warner Books   \n",
              "...                  ...                 ...                      ...   \n",
              "1027869     Maeve Binchy                1986              Penguin USA   \n",
              "1028723     John Grisham                1995                   Island   \n",
              "1029016     Ray Bradbury                1993     Simon &amp; Schuster   \n",
              "1030309    Cynthia Voigt                1983            Fawcett Books   \n",
              "1030814    David Sedaris                2001  Time Warner Audio Major   \n",
              "\n",
              "                                               Image-URL-S  \\\n",
              "62       http://images.amazon.com/images/P/0446520802.0...   \n",
              "63       http://images.amazon.com/images/P/0446520802.0...   \n",
              "64       http://images.amazon.com/images/P/0446520802.0...   \n",
              "65       http://images.amazon.com/images/P/0446520802.0...   \n",
              "66       http://images.amazon.com/images/P/0446520802.0...   \n",
              "...                                                    ...   \n",
              "1027869  http://images.amazon.com/images/P/0670809381.0...   \n",
              "1028723  http://images.amazon.com/images/P/0440910927.0...   \n",
              "1029016  http://images.amazon.com/images/P/B0001PIOX4.0...   \n",
              "1030309  http://images.amazon.com/images/P/0449701913.0...   \n",
              "1030814  http://images.amazon.com/images/P/1586210661.0...   \n",
              "\n",
              "                                               Image-URL-M  \\\n",
              "62       http://images.amazon.com/images/P/0446520802.0...   \n",
              "63       http://images.amazon.com/images/P/0446520802.0...   \n",
              "64       http://images.amazon.com/images/P/0446520802.0...   \n",
              "65       http://images.amazon.com/images/P/0446520802.0...   \n",
              "66       http://images.amazon.com/images/P/0446520802.0...   \n",
              "...                                                    ...   \n",
              "1027869  http://images.amazon.com/images/P/0670809381.0...   \n",
              "1028723  http://images.amazon.com/images/P/0440910927.0...   \n",
              "1029016  http://images.amazon.com/images/P/B0001PIOX4.0...   \n",
              "1030309  http://images.amazon.com/images/P/0449701913.0...   \n",
              "1030814  http://images.amazon.com/images/P/1586210661.0...   \n",
              "\n",
              "                                               Image-URL-L  \n",
              "62       http://images.amazon.com/images/P/0446520802.0...  \n",
              "63       http://images.amazon.com/images/P/0446520802.0...  \n",
              "64       http://images.amazon.com/images/P/0446520802.0...  \n",
              "65       http://images.amazon.com/images/P/0446520802.0...  \n",
              "66       http://images.amazon.com/images/P/0446520802.0...  \n",
              "...                                                    ...  \n",
              "1027869  http://images.amazon.com/images/P/0670809381.0...  \n",
              "1028723  http://images.amazon.com/images/P/0440910927.0...  \n",
              "1029016  http://images.amazon.com/images/P/B0001PIOX4.0...  \n",
              "1030309  http://images.amazon.com/images/P/0449701913.0...  \n",
              "1030814  http://images.amazon.com/images/P/1586210661.0...  \n",
              "\n",
              "[154153 rows x 10 columns]"
            ]
          },
          "execution_count": 39,
          "metadata": {},
          "output_type": "execute_result"
        }
      ],
      "source": [
        "final_books"
      ]
    },
    {
      "cell_type": "code",
      "execution_count": null,
      "id": "ca3380b1",
      "metadata": {
        "execution": {
          "iopub.execute_input": "2023-09-07T12:13:28.963942Z",
          "iopub.status.busy": "2023-09-07T12:13:28.963558Z",
          "iopub.status.idle": "2023-09-07T12:13:28.970573Z",
          "shell.execute_reply": "2023-09-07T12:13:28.969333Z"
        },
        "papermill": {
          "duration": 0.034024,
          "end_time": "2023-09-07T12:13:28.972860",
          "exception": false,
          "start_time": "2023-09-07T12:13:28.938836",
          "status": "completed"
        },
        "tags": [],
        "id": "ca3380b1",
        "outputId": "b0be524a-dfce-4f8e-feff-3c835e2d1c06"
      },
      "outputs": [
        {
          "data": {
            "text/plain": [
              "(154153, 10)"
            ]
          },
          "execution_count": 40,
          "metadata": {},
          "output_type": "execute_result"
        }
      ],
      "source": [
        "final_books.shape"
      ]
    },
    {
      "cell_type": "code",
      "execution_count": null,
      "id": "a6b51e49",
      "metadata": {
        "execution": {
          "iopub.execute_input": "2023-09-07T12:13:29.023355Z",
          "iopub.status.busy": "2023-09-07T12:13:29.022720Z",
          "iopub.status.idle": "2023-09-07T12:13:29.569999Z",
          "shell.execute_reply": "2023-09-07T12:13:29.568995Z"
        },
        "papermill": {
          "duration": 0.575399,
          "end_time": "2023-09-07T12:13:29.572937",
          "exception": false,
          "start_time": "2023-09-07T12:13:28.997538",
          "status": "completed"
        },
        "tags": [],
        "id": "a6b51e49"
      },
      "outputs": [],
      "source": [
        "# Create a Pivot Table\n",
        "pt = final_books.pivot_table(index='Book-Title', columns='User-ID', values='Book-Rating')"
      ]
    },
    {
      "cell_type": "code",
      "execution_count": null,
      "id": "729c175d",
      "metadata": {
        "execution": {
          "iopub.execute_input": "2023-09-07T12:13:29.621792Z",
          "iopub.status.busy": "2023-09-07T12:13:29.621365Z",
          "iopub.status.idle": "2023-09-07T12:13:30.030433Z",
          "shell.execute_reply": "2023-09-07T12:13:30.029324Z"
        },
        "papermill": {
          "duration": 0.436383,
          "end_time": "2023-09-07T12:13:30.032902",
          "exception": false,
          "start_time": "2023-09-07T12:13:29.596519",
          "status": "completed"
        },
        "tags": [],
        "id": "729c175d",
        "outputId": "b21fa343-1183-47d8-afbe-4468b91851be"
      },
      "outputs": [
        {
          "data": {
            "text/html": [
              "<div>\n",
              "<style scoped>\n",
              "    .dataframe tbody tr th:only-of-type {\n",
              "        vertical-align: middle;\n",
              "    }\n",
              "\n",
              "    .dataframe tbody tr th {\n",
              "        vertical-align: top;\n",
              "    }\n",
              "\n",
              "    .dataframe thead th {\n",
              "        text-align: right;\n",
              "    }\n",
              "</style>\n",
              "<table border=\"1\" class=\"dataframe\">\n",
              "  <thead>\n",
              "    <tr style=\"text-align: right;\">\n",
              "      <th>User-ID</th>\n",
              "      <th>8</th>\n",
              "      <th>9</th>\n",
              "      <th>14</th>\n",
              "      <th>16</th>\n",
              "      <th>17</th>\n",
              "      <th>26</th>\n",
              "      <th>32</th>\n",
              "      <th>39</th>\n",
              "      <th>42</th>\n",
              "      <th>44</th>\n",
              "      <th>...</th>\n",
              "      <th>278807</th>\n",
              "      <th>278813</th>\n",
              "      <th>278824</th>\n",
              "      <th>278828</th>\n",
              "      <th>278832</th>\n",
              "      <th>278836</th>\n",
              "      <th>278843</th>\n",
              "      <th>278844</th>\n",
              "      <th>278846</th>\n",
              "      <th>278854</th>\n",
              "    </tr>\n",
              "    <tr>\n",
              "      <th>Book-Title</th>\n",
              "      <th></th>\n",
              "      <th></th>\n",
              "      <th></th>\n",
              "      <th></th>\n",
              "      <th></th>\n",
              "      <th></th>\n",
              "      <th></th>\n",
              "      <th></th>\n",
              "      <th></th>\n",
              "      <th></th>\n",
              "      <th></th>\n",
              "      <th></th>\n",
              "      <th></th>\n",
              "      <th></th>\n",
              "      <th></th>\n",
              "      <th></th>\n",
              "      <th></th>\n",
              "      <th></th>\n",
              "      <th></th>\n",
              "      <th></th>\n",
              "      <th></th>\n",
              "    </tr>\n",
              "  </thead>\n",
              "  <tbody>\n",
              "    <tr>\n",
              "      <th>1984</th>\n",
              "      <td>0.0</td>\n",
              "      <td>0.0</td>\n",
              "      <td>0.0</td>\n",
              "      <td>0.0</td>\n",
              "      <td>0.0</td>\n",
              "      <td>0.0</td>\n",
              "      <td>0.0</td>\n",
              "      <td>0.0</td>\n",
              "      <td>0.0</td>\n",
              "      <td>0.0</td>\n",
              "      <td>...</td>\n",
              "      <td>0.0</td>\n",
              "      <td>0.0</td>\n",
              "      <td>0.0</td>\n",
              "      <td>0.0</td>\n",
              "      <td>0.0</td>\n",
              "      <td>0.0</td>\n",
              "      <td>0.0</td>\n",
              "      <td>0.0</td>\n",
              "      <td>0.0</td>\n",
              "      <td>0.0</td>\n",
              "    </tr>\n",
              "    <tr>\n",
              "      <th>1st to Die: A Novel</th>\n",
              "      <td>0.0</td>\n",
              "      <td>0.0</td>\n",
              "      <td>0.0</td>\n",
              "      <td>0.0</td>\n",
              "      <td>0.0</td>\n",
              "      <td>0.0</td>\n",
              "      <td>0.0</td>\n",
              "      <td>0.0</td>\n",
              "      <td>0.0</td>\n",
              "      <td>0.0</td>\n",
              "      <td>...</td>\n",
              "      <td>0.0</td>\n",
              "      <td>0.0</td>\n",
              "      <td>0.0</td>\n",
              "      <td>0.0</td>\n",
              "      <td>0.0</td>\n",
              "      <td>0.0</td>\n",
              "      <td>0.0</td>\n",
              "      <td>0.0</td>\n",
              "      <td>0.0</td>\n",
              "      <td>0.0</td>\n",
              "    </tr>\n",
              "    <tr>\n",
              "      <th>2nd Chance</th>\n",
              "      <td>0.0</td>\n",
              "      <td>0.0</td>\n",
              "      <td>0.0</td>\n",
              "      <td>0.0</td>\n",
              "      <td>0.0</td>\n",
              "      <td>0.0</td>\n",
              "      <td>0.0</td>\n",
              "      <td>0.0</td>\n",
              "      <td>0.0</td>\n",
              "      <td>0.0</td>\n",
              "      <td>...</td>\n",
              "      <td>0.0</td>\n",
              "      <td>0.0</td>\n",
              "      <td>0.0</td>\n",
              "      <td>0.0</td>\n",
              "      <td>0.0</td>\n",
              "      <td>0.0</td>\n",
              "      <td>0.0</td>\n",
              "      <td>0.0</td>\n",
              "      <td>0.0</td>\n",
              "      <td>0.0</td>\n",
              "    </tr>\n",
              "    <tr>\n",
              "      <th>4 Blondes</th>\n",
              "      <td>0.0</td>\n",
              "      <td>0.0</td>\n",
              "      <td>0.0</td>\n",
              "      <td>0.0</td>\n",
              "      <td>0.0</td>\n",
              "      <td>0.0</td>\n",
              "      <td>0.0</td>\n",
              "      <td>0.0</td>\n",
              "      <td>0.0</td>\n",
              "      <td>0.0</td>\n",
              "      <td>...</td>\n",
              "      <td>0.0</td>\n",
              "      <td>0.0</td>\n",
              "      <td>0.0</td>\n",
              "      <td>0.0</td>\n",
              "      <td>0.0</td>\n",
              "      <td>0.0</td>\n",
              "      <td>0.0</td>\n",
              "      <td>0.0</td>\n",
              "      <td>0.0</td>\n",
              "      <td>0.0</td>\n",
              "    </tr>\n",
              "    <tr>\n",
              "      <th>A Bend in the Road</th>\n",
              "      <td>0.0</td>\n",
              "      <td>0.0</td>\n",
              "      <td>0.0</td>\n",
              "      <td>0.0</td>\n",
              "      <td>0.0</td>\n",
              "      <td>0.0</td>\n",
              "      <td>0.0</td>\n",
              "      <td>0.0</td>\n",
              "      <td>0.0</td>\n",
              "      <td>0.0</td>\n",
              "      <td>...</td>\n",
              "      <td>0.0</td>\n",
              "      <td>0.0</td>\n",
              "      <td>0.0</td>\n",
              "      <td>0.0</td>\n",
              "      <td>0.0</td>\n",
              "      <td>0.0</td>\n",
              "      <td>0.0</td>\n",
              "      <td>0.0</td>\n",
              "      <td>0.0</td>\n",
              "      <td>0.0</td>\n",
              "    </tr>\n",
              "    <tr>\n",
              "      <th>...</th>\n",
              "      <td>...</td>\n",
              "      <td>...</td>\n",
              "      <td>...</td>\n",
              "      <td>...</td>\n",
              "      <td>...</td>\n",
              "      <td>...</td>\n",
              "      <td>...</td>\n",
              "      <td>...</td>\n",
              "      <td>...</td>\n",
              "      <td>...</td>\n",
              "      <td>...</td>\n",
              "      <td>...</td>\n",
              "      <td>...</td>\n",
              "      <td>...</td>\n",
              "      <td>...</td>\n",
              "      <td>...</td>\n",
              "      <td>...</td>\n",
              "      <td>...</td>\n",
              "      <td>...</td>\n",
              "      <td>...</td>\n",
              "      <td>...</td>\n",
              "    </tr>\n",
              "    <tr>\n",
              "      <th>Year of Wonders</th>\n",
              "      <td>0.0</td>\n",
              "      <td>0.0</td>\n",
              "      <td>0.0</td>\n",
              "      <td>0.0</td>\n",
              "      <td>0.0</td>\n",
              "      <td>0.0</td>\n",
              "      <td>0.0</td>\n",
              "      <td>0.0</td>\n",
              "      <td>0.0</td>\n",
              "      <td>0.0</td>\n",
              "      <td>...</td>\n",
              "      <td>0.0</td>\n",
              "      <td>0.0</td>\n",
              "      <td>0.0</td>\n",
              "      <td>0.0</td>\n",
              "      <td>0.0</td>\n",
              "      <td>0.0</td>\n",
              "      <td>0.0</td>\n",
              "      <td>0.0</td>\n",
              "      <td>0.0</td>\n",
              "      <td>0.0</td>\n",
              "    </tr>\n",
              "    <tr>\n",
              "      <th>You Belong To Me</th>\n",
              "      <td>0.0</td>\n",
              "      <td>0.0</td>\n",
              "      <td>0.0</td>\n",
              "      <td>0.0</td>\n",
              "      <td>0.0</td>\n",
              "      <td>0.0</td>\n",
              "      <td>0.0</td>\n",
              "      <td>0.0</td>\n",
              "      <td>0.0</td>\n",
              "      <td>0.0</td>\n",
              "      <td>...</td>\n",
              "      <td>0.0</td>\n",
              "      <td>0.0</td>\n",
              "      <td>0.0</td>\n",
              "      <td>0.0</td>\n",
              "      <td>0.0</td>\n",
              "      <td>0.0</td>\n",
              "      <td>0.0</td>\n",
              "      <td>0.0</td>\n",
              "      <td>0.0</td>\n",
              "      <td>0.0</td>\n",
              "    </tr>\n",
              "    <tr>\n",
              "      <th>Zen and the Art of Motorcycle Maintenance: An Inquiry into Values</th>\n",
              "      <td>0.0</td>\n",
              "      <td>0.0</td>\n",
              "      <td>0.0</td>\n",
              "      <td>0.0</td>\n",
              "      <td>0.0</td>\n",
              "      <td>0.0</td>\n",
              "      <td>0.0</td>\n",
              "      <td>0.0</td>\n",
              "      <td>0.0</td>\n",
              "      <td>0.0</td>\n",
              "      <td>...</td>\n",
              "      <td>0.0</td>\n",
              "      <td>0.0</td>\n",
              "      <td>0.0</td>\n",
              "      <td>0.0</td>\n",
              "      <td>0.0</td>\n",
              "      <td>0.0</td>\n",
              "      <td>0.0</td>\n",
              "      <td>0.0</td>\n",
              "      <td>0.0</td>\n",
              "      <td>0.0</td>\n",
              "    </tr>\n",
              "    <tr>\n",
              "      <th>Zoya</th>\n",
              "      <td>0.0</td>\n",
              "      <td>0.0</td>\n",
              "      <td>0.0</td>\n",
              "      <td>0.0</td>\n",
              "      <td>0.0</td>\n",
              "      <td>0.0</td>\n",
              "      <td>0.0</td>\n",
              "      <td>0.0</td>\n",
              "      <td>0.0</td>\n",
              "      <td>0.0</td>\n",
              "      <td>...</td>\n",
              "      <td>0.0</td>\n",
              "      <td>0.0</td>\n",
              "      <td>0.0</td>\n",
              "      <td>0.0</td>\n",
              "      <td>0.0</td>\n",
              "      <td>0.0</td>\n",
              "      <td>0.0</td>\n",
              "      <td>0.0</td>\n",
              "      <td>0.0</td>\n",
              "      <td>0.0</td>\n",
              "    </tr>\n",
              "    <tr>\n",
              "      <th>\\O\\\" Is for Outlaw\"</th>\n",
              "      <td>0.0</td>\n",
              "      <td>0.0</td>\n",
              "      <td>0.0</td>\n",
              "      <td>0.0</td>\n",
              "      <td>0.0</td>\n",
              "      <td>0.0</td>\n",
              "      <td>0.0</td>\n",
              "      <td>0.0</td>\n",
              "      <td>0.0</td>\n",
              "      <td>0.0</td>\n",
              "      <td>...</td>\n",
              "      <td>0.0</td>\n",
              "      <td>0.0</td>\n",
              "      <td>0.0</td>\n",
              "      <td>0.0</td>\n",
              "      <td>0.0</td>\n",
              "      <td>0.0</td>\n",
              "      <td>0.0</td>\n",
              "      <td>0.0</td>\n",
              "      <td>0.0</td>\n",
              "      <td>0.0</td>\n",
              "    </tr>\n",
              "  </tbody>\n",
              "</table>\n",
              "<p>679 rows × 33774 columns</p>\n",
              "</div>"
            ],
            "text/plain": [
              "User-ID                                             8       9       14      \\\n",
              "Book-Title                                                                   \n",
              "1984                                                   0.0     0.0     0.0   \n",
              "1st to Die: A Novel                                    0.0     0.0     0.0   \n",
              "2nd Chance                                             0.0     0.0     0.0   \n",
              "4 Blondes                                              0.0     0.0     0.0   \n",
              "A Bend in the Road                                     0.0     0.0     0.0   \n",
              "...                                                    ...     ...     ...   \n",
              "Year of Wonders                                        0.0     0.0     0.0   \n",
              "You Belong To Me                                       0.0     0.0     0.0   \n",
              "Zen and the Art of Motorcycle Maintenance: An I...     0.0     0.0     0.0   \n",
              "Zoya                                                   0.0     0.0     0.0   \n",
              "\\O\\\" Is for Outlaw\"                                    0.0     0.0     0.0   \n",
              "\n",
              "User-ID                                             16      17      26      \\\n",
              "Book-Title                                                                   \n",
              "1984                                                   0.0     0.0     0.0   \n",
              "1st to Die: A Novel                                    0.0     0.0     0.0   \n",
              "2nd Chance                                             0.0     0.0     0.0   \n",
              "4 Blondes                                              0.0     0.0     0.0   \n",
              "A Bend in the Road                                     0.0     0.0     0.0   \n",
              "...                                                    ...     ...     ...   \n",
              "Year of Wonders                                        0.0     0.0     0.0   \n",
              "You Belong To Me                                       0.0     0.0     0.0   \n",
              "Zen and the Art of Motorcycle Maintenance: An I...     0.0     0.0     0.0   \n",
              "Zoya                                                   0.0     0.0     0.0   \n",
              "\\O\\\" Is for Outlaw\"                                    0.0     0.0     0.0   \n",
              "\n",
              "User-ID                                             32      39      42      \\\n",
              "Book-Title                                                                   \n",
              "1984                                                   0.0     0.0     0.0   \n",
              "1st to Die: A Novel                                    0.0     0.0     0.0   \n",
              "2nd Chance                                             0.0     0.0     0.0   \n",
              "4 Blondes                                              0.0     0.0     0.0   \n",
              "A Bend in the Road                                     0.0     0.0     0.0   \n",
              "...                                                    ...     ...     ...   \n",
              "Year of Wonders                                        0.0     0.0     0.0   \n",
              "You Belong To Me                                       0.0     0.0     0.0   \n",
              "Zen and the Art of Motorcycle Maintenance: An I...     0.0     0.0     0.0   \n",
              "Zoya                                                   0.0     0.0     0.0   \n",
              "\\O\\\" Is for Outlaw\"                                    0.0     0.0     0.0   \n",
              "\n",
              "User-ID                                             44      ...  278807  \\\n",
              "Book-Title                                                  ...           \n",
              "1984                                                   0.0  ...     0.0   \n",
              "1st to Die: A Novel                                    0.0  ...     0.0   \n",
              "2nd Chance                                             0.0  ...     0.0   \n",
              "4 Blondes                                              0.0  ...     0.0   \n",
              "A Bend in the Road                                     0.0  ...     0.0   \n",
              "...                                                    ...  ...     ...   \n",
              "Year of Wonders                                        0.0  ...     0.0   \n",
              "You Belong To Me                                       0.0  ...     0.0   \n",
              "Zen and the Art of Motorcycle Maintenance: An I...     0.0  ...     0.0   \n",
              "Zoya                                                   0.0  ...     0.0   \n",
              "\\O\\\" Is for Outlaw\"                                    0.0  ...     0.0   \n",
              "\n",
              "User-ID                                             278813  278824  278828  \\\n",
              "Book-Title                                                                   \n",
              "1984                                                   0.0     0.0     0.0   \n",
              "1st to Die: A Novel                                    0.0     0.0     0.0   \n",
              "2nd Chance                                             0.0     0.0     0.0   \n",
              "4 Blondes                                              0.0     0.0     0.0   \n",
              "A Bend in the Road                                     0.0     0.0     0.0   \n",
              "...                                                    ...     ...     ...   \n",
              "Year of Wonders                                        0.0     0.0     0.0   \n",
              "You Belong To Me                                       0.0     0.0     0.0   \n",
              "Zen and the Art of Motorcycle Maintenance: An I...     0.0     0.0     0.0   \n",
              "Zoya                                                   0.0     0.0     0.0   \n",
              "\\O\\\" Is for Outlaw\"                                    0.0     0.0     0.0   \n",
              "\n",
              "User-ID                                             278832  278836  278843  \\\n",
              "Book-Title                                                                   \n",
              "1984                                                   0.0     0.0     0.0   \n",
              "1st to Die: A Novel                                    0.0     0.0     0.0   \n",
              "2nd Chance                                             0.0     0.0     0.0   \n",
              "4 Blondes                                              0.0     0.0     0.0   \n",
              "A Bend in the Road                                     0.0     0.0     0.0   \n",
              "...                                                    ...     ...     ...   \n",
              "Year of Wonders                                        0.0     0.0     0.0   \n",
              "You Belong To Me                                       0.0     0.0     0.0   \n",
              "Zen and the Art of Motorcycle Maintenance: An I...     0.0     0.0     0.0   \n",
              "Zoya                                                   0.0     0.0     0.0   \n",
              "\\O\\\" Is for Outlaw\"                                    0.0     0.0     0.0   \n",
              "\n",
              "User-ID                                             278844  278846  278854  \n",
              "Book-Title                                                                  \n",
              "1984                                                   0.0     0.0     0.0  \n",
              "1st to Die: A Novel                                    0.0     0.0     0.0  \n",
              "2nd Chance                                             0.0     0.0     0.0  \n",
              "4 Blondes                                              0.0     0.0     0.0  \n",
              "A Bend in the Road                                     0.0     0.0     0.0  \n",
              "...                                                    ...     ...     ...  \n",
              "Year of Wonders                                        0.0     0.0     0.0  \n",
              "You Belong To Me                                       0.0     0.0     0.0  \n",
              "Zen and the Art of Motorcycle Maintenance: An I...     0.0     0.0     0.0  \n",
              "Zoya                                                   0.0     0.0     0.0  \n",
              "\\O\\\" Is for Outlaw\"                                    0.0     0.0     0.0  \n",
              "\n",
              "[679 rows x 33774 columns]"
            ]
          },
          "execution_count": 42,
          "metadata": {},
          "output_type": "execute_result"
        }
      ],
      "source": [
        "# fill the NaN values with 0\n",
        "pt.fillna(0,inplace=True)\n",
        "pt"
      ]
    },
    {
      "cell_type": "code",
      "execution_count": null,
      "id": "a3594136",
      "metadata": {
        "execution": {
          "iopub.execute_input": "2023-09-07T12:13:30.084340Z",
          "iopub.status.busy": "2023-09-07T12:13:30.083286Z",
          "iopub.status.idle": "2023-09-07T12:13:30.598921Z",
          "shell.execute_reply": "2023-09-07T12:13:30.597312Z"
        },
        "papermill": {
          "duration": 0.546559,
          "end_time": "2023-09-07T12:13:30.603736",
          "exception": false,
          "start_time": "2023-09-07T12:13:30.057177",
          "status": "completed"
        },
        "tags": [],
        "id": "a3594136"
      },
      "outputs": [],
      "source": [
        "# Calculate Similarity Scores using Cosine Similarity\n",
        "# This computes the similarity between books based on user ratings using the cosine similarity metric.\n",
        "similarity_scores = cosine_similarity(pt)"
      ]
    },
    {
      "cell_type": "code",
      "execution_count": null,
      "id": "96fc56f3",
      "metadata": {
        "execution": {
          "iopub.execute_input": "2023-09-07T12:13:30.710618Z",
          "iopub.status.busy": "2023-09-07T12:13:30.709722Z",
          "iopub.status.idle": "2023-09-07T12:13:30.719855Z",
          "shell.execute_reply": "2023-09-07T12:13:30.718523Z"
        },
        "papermill": {
          "duration": 0.066282,
          "end_time": "2023-09-07T12:13:30.722364",
          "exception": false,
          "start_time": "2023-09-07T12:13:30.656082",
          "status": "completed"
        },
        "tags": [],
        "id": "96fc56f3"
      },
      "outputs": [],
      "source": [
        "# Defining a Recommendation Function\n",
        "# This function takes a book name as input and recommends similar books based on user ratings.\n",
        "\n",
        "def recommend(book_name):\n",
        "    # Find the index of the book in the pivot table\n",
        "    index = np.where(pt.index == book_name)[0][0]\n",
        "\n",
        "    # Retrieve similarity scores for the selected book\n",
        "    distance = similarity_scores[index]\n",
        "\n",
        "    # Find the indices and similarity scores of the most similar books\n",
        "    similar_list = sorted(list(enumerate(similarity_scores[index])), key=lambda x: x[1], reverse=True)[1:6]\n",
        "\n",
        "    # Print the recommended books\n",
        "    for i in similar_list:\n",
        "        print(pt.index[i[0]])"
      ]
    },
    {
      "cell_type": "code",
      "execution_count": null,
      "id": "0168d383",
      "metadata": {
        "execution": {
          "iopub.execute_input": "2023-09-07T12:13:30.772721Z",
          "iopub.status.busy": "2023-09-07T12:13:30.771938Z",
          "iopub.status.idle": "2023-09-07T12:13:30.778609Z",
          "shell.execute_reply": "2023-09-07T12:13:30.777643Z"
        },
        "papermill": {
          "duration": 0.034185,
          "end_time": "2023-09-07T12:13:30.780814",
          "exception": false,
          "start_time": "2023-09-07T12:13:30.746629",
          "status": "completed"
        },
        "tags": [],
        "id": "0168d383",
        "outputId": "a7ace39c-012d-482a-821c-a3c488080ba2"
      },
      "outputs": [
        {
          "name": "stdout",
          "output_type": "stream",
          "text": [
            "Fine Things\n",
            "Message from Nam\n",
            "No Greater Love\n",
            "Kaleidoscope\n",
            "Heartbeat\n"
          ]
        }
      ],
      "source": [
        "recommend('Zoya')"
      ]
    }
  ],
  "metadata": {
    "kernelspec": {
      "display_name": "Python 3",
      "language": "python",
      "name": "python3"
    },
    "language_info": {
      "codemirror_mode": {
        "name": "ipython",
        "version": 3
      },
      "file_extension": ".py",
      "mimetype": "text/x-python",
      "name": "python",
      "nbconvert_exporter": "python",
      "pygments_lexer": "ipython3",
      "version": "3.10.12"
    },
    "papermill": {
      "default_parameters": {},
      "duration": 22.455659,
      "end_time": "2023-09-07T12:13:31.626864",
      "environment_variables": {},
      "exception": null,
      "input_path": "__notebook__.ipynb",
      "output_path": "__notebook__.ipynb",
      "parameters": {},
      "start_time": "2023-09-07T12:13:09.171205",
      "version": "2.4.0"
    },
    "colab": {
      "provenance": []
    }
  },
  "nbformat": 4,
  "nbformat_minor": 5
}